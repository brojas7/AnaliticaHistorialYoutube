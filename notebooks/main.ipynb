{
  "cells": [
    {
      "cell_type": "markdown",
      "id": "8ff0ef39",
      "metadata": {
        "id": "8ff0ef39"
      },
      "source": [
        "\n",
        "# **Cuaderno de Proyecto — Ciencia de Datos con YouTube**\n",
        "**Curso:** SINT-200  \n",
        "**Profesor:** Dr. Tomás de Camino Beck  \n",
        "**Estudiante(s):** _Bernal Rojas Villalobos_  \n",
        "**Fecha de entrega:** 21 de Octubre\n",
        "\n",
        "---\n",
        "\n",
        "## Instrucciones Generales\n",
        "\n",
        "Reto: Exportar datos de tu actividad YouTube (Google Takeout), construir una matriz usuario-contenido con señales (vistas, likes, tiempo, etc.), hacer EDA de sesgos/“burbujas”, y entrenar dos recomendadores (colaborativo vs. basado en contenido). Comparar métricas (cosas como precision@k, recall@k, cobertura) y explicar errores.  \n",
        "\n",
        "\n",
        "\n",
        "Este cuaderno sirve como **especificación y entregable** del proyecto. Debes completar cada sección marcada con **TODO** y dejar celdas de código **ejecutables** y **reproducibles**. El reto tiene dos proyectos:\n",
        "\n",
        "1. **Proyecto 1 — Tu Huella YouTube: Recomendador y Análisis de Burbuja Algorítmica.**  \n",
        "2. **Proyecto 2 — Detección de “Doomscrolling”: Predicción de sesiones extendidas.**\n",
        "\n",
        "### Ética y Privacidad de Datos\n",
        "- Puedes **anonimizar** tu información de YouTube (IDs, títulos, canales, tiempos) antes de subirla aquí.  \n",
        "- Alternativamente, puedes usar datos de otra persona **con su consentimiento informado** y **anonimizados**.  \n",
        "- No incluyas PII (información personal identificable) ni material sensible.  \n",
        "- Incluye un **Anexo de Privacidad** explicando qué datos usaste, cómo los obtuviste y cómo los protegiste.\n",
        "\n",
        "### Entregables\n",
        "- Este **cuaderno de Colab** completo y ejecutable.  \n",
        "- Carpeta `data/` con **muestras** de los datos (o datos sintéticos/anonimizados).  \n",
        "- **Diccionario de datos** (descripción de campos, tipos, unidades, supuestos).  \n",
        "- **Resultados y visualizaciones** dentro del notebook.  \n",
        "- **Conclusiones** + **Recomendaciones** (acciones sugeridas) + **Limitaciones** + **Trabajo futuro**.\n",
        "- Repositorio con estructura mínima:  \n",
        "  ```\n",
        "  README.md\n",
        "  data/        # muestras o datos anonimizados\n",
        "  notebooks/   # este cuaderno\n",
        "  src/         # funciones reutilizables\n",
        "  reports/     # figuras / tablas clave\n",
        "  ```\n",
        "\n",
        "### Rúbrica (100 pts)\n",
        "- **Charter/Problema y utilidad (10 pts)**: objetivos claros, hipótesis, valor para el usuario.  \n",
        "- **Adquisición y calidad de datos (10 pts)**: trazabilidad, permisos, limpieza básica.  \n",
        "- **EDA y visualizaciones (20 pts)**: distribución, outliers, correlaciones, sesgos/segmentos.  \n",
        "- **Baselines y metodología (10 pts)**: definición de referencia simple y por qué.  \n",
        "- **Modelado (20 pts)**: al menos **2 enfoques** comparados, justificación.  \n",
        "- **Evaluación (15 pts)**: métricas adecuadas, validación (temporal cuando aplique), error analysis.  \n",
        "- **Reproducibilidad (5 pts)**: semillas, funciones, estructura clara.  \n",
        "- **Conclusiones & ética (10 pts)**: hallazgos accionables y reflexiones de privacidad/sesgo.\n",
        "\n",
        "---\n"
      ]
    },
    {
      "cell_type": "markdown",
      "id": "e7b975eb",
      "metadata": {
        "id": "e7b975eb"
      },
      "source": [
        "\n",
        "## 0. Preparación del entorno (ejecutar una vez)\n"
      ]
    },
    {
      "cell_type": "code",
      "source": [
        "# Clonar tu repositorio\n",
        "!git clone https://github.com/brojas7/AnaliticaHistorialYoutube.git\n",
        "\n",
        "# Ir al directorio del proyecto\n",
        "%cd AnaliticaHistorialYoutube\n",
        "\n",
        "# TODO: Ajusta versiones si lo necesitas. Evita dependencias innecesarias.\n",
        "!pip -q install pandas numpy matplotlib scikit-learn textblob python-dateutil tqdm dateparser google-generativeai"
      ],
      "metadata": {
        "id": "LFe1U4XL8UJA",
        "outputId": "da4ccb8b-8513-45b8-e88b-d4a1992699a6",
        "colab": {
          "base_uri": "https://localhost:8080/"
        }
      },
      "id": "LFe1U4XL8UJA",
      "execution_count": 2,
      "outputs": [
        {
          "output_type": "stream",
          "name": "stdout",
          "text": [
            "Cloning into 'AnaliticaHistorialYoutube'...\n",
            "remote: Enumerating objects: 58, done.\u001b[K\n",
            "remote: Counting objects: 100% (58/58), done.\u001b[K\n",
            "remote: Compressing objects: 100% (43/43), done.\u001b[K\n",
            "remote: Total 58 (delta 17), reused 16 (delta 3), pack-reused 0 (from 0)\u001b[K\n",
            "Receiving objects: 100% (58/58), 2.37 MiB | 3.85 MiB/s, done.\n",
            "Resolving deltas: 100% (17/17), done.\n",
            "/content/AnaliticaHistorialYoutube\n",
            "\u001b[2K   \u001b[90m━━━━━━━━━━━━━━━━━━━━━━━━━━━━━━━━━━━━━━━━\u001b[0m \u001b[32m315.5/315.5 kB\u001b[0m \u001b[31m12.0 MB/s\u001b[0m eta \u001b[36m0:00:00\u001b[0m\n",
            "\u001b[?25h"
          ]
        }
      ]
    },
    {
      "cell_type": "code",
      "execution_count": 3,
      "id": "54899c40",
      "metadata": {
        "id": "54899c40",
        "outputId": "1cb39aba-5db2-4cc6-d33f-fbfe55b0309f",
        "colab": {
          "base_uri": "https://localhost:8080/"
        }
      },
      "outputs": [
        {
          "output_type": "stream",
          "name": "stdout",
          "text": [
            "Entorno listo. Versión de pandas: 2.2.2\n"
          ]
        }
      ],
      "source": [
        "# Imports base y configuración\n",
        "import os, json, math, random, itertools, collections, gzip, re, string, time, zipfile, io\n",
        "from datetime import datetime, timedelta\n",
        "from dateutil import parser as dateparser\n",
        "import numpy as np\n",
        "import pandas as pd\n",
        "import matplotlib.pyplot as plt\n",
        "\n",
        "from sklearn.model_selection import train_test_split, TimeSeriesSplit\n",
        "from sklearn.metrics import (\n",
        "    accuracy_score, precision_score, recall_score, f1_score, roc_auc_score,\n",
        "    confusion_matrix, mean_absolute_error, mean_squared_error\n",
        ")\n",
        "\n",
        "import sys\n",
        "sys.path.append('/content/AnaliticaHistorialYoutube/src')\n",
        "\n",
        "from youtube_utils import load_watch_history, anonymize_df, sessionize\n",
        "\n",
        "# Reproducibilidad\n",
        "SEED = 42\n",
        "random.seed(SEED)\n",
        "np.random.seed(SEED)\n",
        "\n",
        "pd.set_option(\"display.max_columns\", 120)\n",
        "pd.set_option(\"display.max_rows\", 200)\n",
        "\n",
        "print(\"Entorno listo. Versión de pandas:\", pd.__version__)\n"
      ]
    },
    {
      "cell_type": "markdown",
      "id": "13d2a739",
      "metadata": {
        "id": "13d2a739"
      },
      "source": [
        "\n",
        "## 1. Anexo de Privacidad y Origen de Datos (obligatorio)\n",
        "**TODO:** Explicar:\n",
        "- Fuente de datos (Google Takeout, exportación manual, datos de tercero con consentimiento, etc.).  \n",
        "- Estrategia de **anonimización** (por ejemplo: hashing de IDs/URLs, truncado de timestamps, agrupación por hora/día).  \n",
        "- Contenido eliminado o agregado (p. ej., datos sintéticos para completar campos).  \n",
        "- Limitaciones y riesgos residuales.\n"
      ]
    },
    {
      "cell_type": "markdown",
      "id": "191b4ac5",
      "metadata": {
        "id": "191b4ac5"
      },
      "source": [
        "\n",
        "## 2. Selección de Proyecto\n",
        "**Marca con una X**\n",
        "\n",
        "- [ ] **Proyecto 1 — Recomendador YouTube & Burbuja Algorítmica**  \n",
        "- [ ] **Proyecto 2 — Detección de Doomscrolling (clasificación temporal)**\n"
      ]
    },
    {
      "cell_type": "markdown",
      "id": "b85beb5a",
      "metadata": {
        "id": "b85beb5a"
      },
      "source": [
        "\n",
        "## 3. Utilidades comunes para YouTube (ingesta y parsing)\n",
        "\n",
        "Para **Proyecto 1** y **Proyecto 2** puedes usar datos de **Google Takeout**:  \n",
        "- `watch-history.json` (o `watch-history.html` en exportaciones antiguas)  \n",
        "- `search-history.json` (opcional)  \n",
        "- `likes.csv` / `subscriptions.csv` (según disponibilidad)\n",
        "\n",
        "> **Nota:** Los formatos de Takeout pueden cambiar con el tiempo. Ajusta el parser según tu exportación.\n"
      ]
    },
    {
      "cell_type": "markdown",
      "source": [
        "\n",
        "# **Limpieza, Enriquecimiento y Transformación del dataset**\n"
      ],
      "metadata": {
        "id": "HWdMlR62MV5L"
      },
      "id": "HWdMlR62MV5L"
    },
    {
      "cell_type": "code",
      "source": [
        "# Ejemplo de uso\n",
        "df_search = load_watch_history('data/historial-de-búsqueda.json')\n",
        "df_watch = load_watch_history('data/historial-de-reproducciones.json')\n",
        "df_suscipciones = pd.read_csv('data/suscripciones.csv')\n",
        "\n",
        "#df = anonymize_df(df)\n",
        "#df = sessionize(df)\n",
        "print(df_search.shape)\n",
        "print(df_watch.shape)\n",
        "print(\"Eventos:\", len(df_watch), \"Rango:\", df_watch['timestamp'].min(), \"->\", df_watch['timestamp'].max())"
      ],
      "metadata": {
        "id": "5r5EmCD1_lai",
        "outputId": "fca381c0-c2fd-4ecb-956d-8f73c43e62af",
        "colab": {
          "base_uri": "https://localhost:8080/"
        }
      },
      "id": "5r5EmCD1_lai",
      "execution_count": 4,
      "outputs": [
        {
          "output_type": "stream",
          "name": "stdout",
          "text": [
            "(12090, 6)\n",
            "(36842, 6)\n",
            "Eventos: 36842 Rango: 2018-02-22 02:05:35.427000+00:00 -> 2025-10-18 01:02:57.606000+00:00\n"
          ]
        }
      ]
    },
    {
      "cell_type": "code",
      "source": [
        "# Copia base\n",
        "df_watch_clean = df_watch.copy()\n",
        "\n",
        "# Limpieza del título (remover \"Has visto\")\n",
        "df_watch_clean['video_title'] = df_watch_clean['title'].str.replace(r'^Has visto\\s+', '', regex=True)\n",
        "\n",
        "# Convertir timestamps\n",
        "df_watch_clean['watched_at'] = pd.to_datetime(df_watch_clean['timestamp'], utc=True)\n",
        "\n",
        "# Variables derivadas\n",
        "df_watch_clean['weekday'] = df_watch_clean['watched_at'].dt.day_name()\n",
        "df_watch_clean['hour'] = df_watch_clean['watched_at'].dt.hour\n",
        "df_watch_clean['hour_group'] = pd.cut(df_watch_clean['hour'],\n",
        "                                      bins=[-1,6,12,18,24],\n",
        "                                      labels=['madrugada','mañana','tarde','noche'])"
      ],
      "metadata": {
        "id": "TmaXN-S2RwP8"
      },
      "id": "TmaXN-S2RwP8",
      "execution_count": 6,
      "outputs": []
    },
    {
      "cell_type": "code",
      "source": [
        "df_suscripciones_clean = df_suscipciones.rename(columns={\n",
        "    \"Título del canal\": \"channel_title\",\n",
        "    \"URL del canal\": \"channel_url\",\n",
        "    \"ID del canal\": \"channel_id\"\n",
        "})"
      ],
      "metadata": {
        "id": "tL-L1G-vSoOl"
      },
      "id": "tL-L1G-vSoOl",
      "execution_count": 7,
      "outputs": []
    },
    {
      "cell_type": "code",
      "source": [
        "df_search_clean = df_search.copy()\n",
        "df_search_clean['timestamp'] = pd.to_datetime(df_search_clean['timestamp'], utc=True)\n",
        "df_search_clean['search_terms'] = df_search_clean['title'].str.replace('Buscaste', '').str.strip()"
      ],
      "metadata": {
        "id": "Vdpabqw5SxFN"
      },
      "id": "Vdpabqw5SxFN",
      "execution_count": 8,
      "outputs": []
    },
    {
      "cell_type": "markdown",
      "source": [
        "Enlace entre vistas y suscripciones"
      ],
      "metadata": {
        "id": "CL8P_i5hT457"
      },
      "id": "CL8P_i5hT457"
    },
    {
      "cell_type": "code",
      "source": [
        "# Renombramos la columna 'channel' en el historial para igualarla con suscripciones\n",
        "df_watch_clean = df_watch_clean.rename(columns={'channel': 'channel_title'})\n",
        "\n",
        "df_main = df_watch_clean.merge(\n",
        "    df_suscripciones_clean[['channel_title', 'channel_id']],\n",
        "    on='channel_title',\n",
        "    how='left',\n",
        "    indicator=True\n",
        ")\n",
        "\n",
        "df_main['is_subscribed'] = (df_main['_merge'] == 'both').astype(int)\n",
        "df_main.drop(columns=['_merge'], inplace=True)"
      ],
      "metadata": {
        "id": "22JiJ2uNSxKL"
      },
      "id": "22JiJ2uNSxKL",
      "execution_count": 9,
      "outputs": []
    },
    {
      "cell_type": "markdown",
      "source": [
        "3️Señales de interacción (para matriz usuario–contenido)"
      ],
      "metadata": {
        "id": "IyL7e0tOT7q5"
      },
      "id": "IyL7e0tOT7q5"
    },
    {
      "cell_type": "code",
      "source": [
        "df_main['interaction_score'] = 1.0\n",
        "df_main.loc[df_main['is_subscribed'] == 1, 'interaction_score'] += 0.5"
      ],
      "metadata": {
        "id": "jwkzhrJuTr-G"
      },
      "id": "jwkzhrJuTr-G",
      "execution_count": 10,
      "outputs": []
    },
    {
      "cell_type": "markdown",
      "source": [
        "Valores nulos en canal\n",
        "son anuncios i videos borrados"
      ],
      "metadata": {
        "id": "C5CDBANVZaAN"
      },
      "id": "C5CDBANVZaAN"
    },
    {
      "cell_type": "code",
      "source": [
        "df_main.shape"
      ],
      "metadata": {
        "colab": {
          "base_uri": "https://localhost:8080/"
        },
        "id": "mkrqAyUpSxPS",
        "outputId": "354d2499-dd3c-4bcc-c595-8ad8814eff91"
      },
      "id": "mkrqAyUpSxPS",
      "execution_count": 11,
      "outputs": [
        {
          "output_type": "execute_result",
          "data": {
            "text/plain": [
              "(36842, 14)"
            ]
          },
          "metadata": {},
          "execution_count": 11
        }
      ]
    },
    {
      "cell_type": "code",
      "source": [
        "df_main[df_main['channel_title'].isna()][['video_title', 'url']].head(10)\n"
      ],
      "metadata": {
        "colab": {
          "base_uri": "https://localhost:8080/",
          "height": 363
        },
        "id": "K6d05vuLZY2M",
        "outputId": "ccb0dfae-4845-4b76-f8cc-2b5904907a6b"
      },
      "id": "K6d05vuLZY2M",
      "execution_count": 12,
      "outputs": [
        {
          "output_type": "execute_result",
          "data": {
            "text/plain": [
              "                                     video_title  \\\n",
              "3    https://www.youtube.com/watch?v=l8dasJTQdw8   \n",
              "9    https://www.youtube.com/watch?v=Qh8vqGj_Dbg   \n",
              "16   https://www.youtube.com/watch?v=vxDjs9wQrhw   \n",
              "21   https://www.youtube.com/watch?v=09wmbNmZsbc   \n",
              "33   https://www.youtube.com/watch?v=or6p6659Jrg   \n",
              "75   https://www.youtube.com/watch?v=vxDjs9wQrhw   \n",
              "77   https://www.youtube.com/watch?v=UZwXbecjg1Y   \n",
              "81   https://www.youtube.com/watch?v=09wmbNmZsbc   \n",
              "97   https://www.youtube.com/watch?v=EM9OG65ccVI   \n",
              "185  https://www.youtube.com/watch?v=educpLKQbEg   \n",
              "\n",
              "                                             url  \n",
              "3    https://www.youtube.com/watch?v=l8dasJTQdw8  \n",
              "9    https://www.youtube.com/watch?v=Qh8vqGj_Dbg  \n",
              "16   https://www.youtube.com/watch?v=vxDjs9wQrhw  \n",
              "21   https://www.youtube.com/watch?v=09wmbNmZsbc  \n",
              "33   https://www.youtube.com/watch?v=or6p6659Jrg  \n",
              "75   https://www.youtube.com/watch?v=vxDjs9wQrhw  \n",
              "77   https://www.youtube.com/watch?v=UZwXbecjg1Y  \n",
              "81   https://www.youtube.com/watch?v=09wmbNmZsbc  \n",
              "97   https://www.youtube.com/watch?v=EM9OG65ccVI  \n",
              "185  https://www.youtube.com/watch?v=educpLKQbEg  "
            ],
            "text/html": [
              "\n",
              "  <div id=\"df-e3f2b67d-8d2b-402f-88dc-b8944b69328c\" class=\"colab-df-container\">\n",
              "    <div>\n",
              "<style scoped>\n",
              "    .dataframe tbody tr th:only-of-type {\n",
              "        vertical-align: middle;\n",
              "    }\n",
              "\n",
              "    .dataframe tbody tr th {\n",
              "        vertical-align: top;\n",
              "    }\n",
              "\n",
              "    .dataframe thead th {\n",
              "        text-align: right;\n",
              "    }\n",
              "</style>\n",
              "<table border=\"1\" class=\"dataframe\">\n",
              "  <thead>\n",
              "    <tr style=\"text-align: right;\">\n",
              "      <th></th>\n",
              "      <th>video_title</th>\n",
              "      <th>url</th>\n",
              "    </tr>\n",
              "  </thead>\n",
              "  <tbody>\n",
              "    <tr>\n",
              "      <th>3</th>\n",
              "      <td>https://www.youtube.com/watch?v=l8dasJTQdw8</td>\n",
              "      <td>https://www.youtube.com/watch?v=l8dasJTQdw8</td>\n",
              "    </tr>\n",
              "    <tr>\n",
              "      <th>9</th>\n",
              "      <td>https://www.youtube.com/watch?v=Qh8vqGj_Dbg</td>\n",
              "      <td>https://www.youtube.com/watch?v=Qh8vqGj_Dbg</td>\n",
              "    </tr>\n",
              "    <tr>\n",
              "      <th>16</th>\n",
              "      <td>https://www.youtube.com/watch?v=vxDjs9wQrhw</td>\n",
              "      <td>https://www.youtube.com/watch?v=vxDjs9wQrhw</td>\n",
              "    </tr>\n",
              "    <tr>\n",
              "      <th>21</th>\n",
              "      <td>https://www.youtube.com/watch?v=09wmbNmZsbc</td>\n",
              "      <td>https://www.youtube.com/watch?v=09wmbNmZsbc</td>\n",
              "    </tr>\n",
              "    <tr>\n",
              "      <th>33</th>\n",
              "      <td>https://www.youtube.com/watch?v=or6p6659Jrg</td>\n",
              "      <td>https://www.youtube.com/watch?v=or6p6659Jrg</td>\n",
              "    </tr>\n",
              "    <tr>\n",
              "      <th>75</th>\n",
              "      <td>https://www.youtube.com/watch?v=vxDjs9wQrhw</td>\n",
              "      <td>https://www.youtube.com/watch?v=vxDjs9wQrhw</td>\n",
              "    </tr>\n",
              "    <tr>\n",
              "      <th>77</th>\n",
              "      <td>https://www.youtube.com/watch?v=UZwXbecjg1Y</td>\n",
              "      <td>https://www.youtube.com/watch?v=UZwXbecjg1Y</td>\n",
              "    </tr>\n",
              "    <tr>\n",
              "      <th>81</th>\n",
              "      <td>https://www.youtube.com/watch?v=09wmbNmZsbc</td>\n",
              "      <td>https://www.youtube.com/watch?v=09wmbNmZsbc</td>\n",
              "    </tr>\n",
              "    <tr>\n",
              "      <th>97</th>\n",
              "      <td>https://www.youtube.com/watch?v=EM9OG65ccVI</td>\n",
              "      <td>https://www.youtube.com/watch?v=EM9OG65ccVI</td>\n",
              "    </tr>\n",
              "    <tr>\n",
              "      <th>185</th>\n",
              "      <td>https://www.youtube.com/watch?v=educpLKQbEg</td>\n",
              "      <td>https://www.youtube.com/watch?v=educpLKQbEg</td>\n",
              "    </tr>\n",
              "  </tbody>\n",
              "</table>\n",
              "</div>\n",
              "    <div class=\"colab-df-buttons\">\n",
              "\n",
              "  <div class=\"colab-df-container\">\n",
              "    <button class=\"colab-df-convert\" onclick=\"convertToInteractive('df-e3f2b67d-8d2b-402f-88dc-b8944b69328c')\"\n",
              "            title=\"Convert this dataframe to an interactive table.\"\n",
              "            style=\"display:none;\">\n",
              "\n",
              "  <svg xmlns=\"http://www.w3.org/2000/svg\" height=\"24px\" viewBox=\"0 -960 960 960\">\n",
              "    <path d=\"M120-120v-720h720v720H120Zm60-500h600v-160H180v160Zm220 220h160v-160H400v160Zm0 220h160v-160H400v160ZM180-400h160v-160H180v160Zm440 0h160v-160H620v160ZM180-180h160v-160H180v160Zm440 0h160v-160H620v160Z\"/>\n",
              "  </svg>\n",
              "    </button>\n",
              "\n",
              "  <style>\n",
              "    .colab-df-container {\n",
              "      display:flex;\n",
              "      gap: 12px;\n",
              "    }\n",
              "\n",
              "    .colab-df-convert {\n",
              "      background-color: #E8F0FE;\n",
              "      border: none;\n",
              "      border-radius: 50%;\n",
              "      cursor: pointer;\n",
              "      display: none;\n",
              "      fill: #1967D2;\n",
              "      height: 32px;\n",
              "      padding: 0 0 0 0;\n",
              "      width: 32px;\n",
              "    }\n",
              "\n",
              "    .colab-df-convert:hover {\n",
              "      background-color: #E2EBFA;\n",
              "      box-shadow: 0px 1px 2px rgba(60, 64, 67, 0.3), 0px 1px 3px 1px rgba(60, 64, 67, 0.15);\n",
              "      fill: #174EA6;\n",
              "    }\n",
              "\n",
              "    .colab-df-buttons div {\n",
              "      margin-bottom: 4px;\n",
              "    }\n",
              "\n",
              "    [theme=dark] .colab-df-convert {\n",
              "      background-color: #3B4455;\n",
              "      fill: #D2E3FC;\n",
              "    }\n",
              "\n",
              "    [theme=dark] .colab-df-convert:hover {\n",
              "      background-color: #434B5C;\n",
              "      box-shadow: 0px 1px 3px 1px rgba(0, 0, 0, 0.15);\n",
              "      filter: drop-shadow(0px 1px 2px rgba(0, 0, 0, 0.3));\n",
              "      fill: #FFFFFF;\n",
              "    }\n",
              "  </style>\n",
              "\n",
              "    <script>\n",
              "      const buttonEl =\n",
              "        document.querySelector('#df-e3f2b67d-8d2b-402f-88dc-b8944b69328c button.colab-df-convert');\n",
              "      buttonEl.style.display =\n",
              "        google.colab.kernel.accessAllowed ? 'block' : 'none';\n",
              "\n",
              "      async function convertToInteractive(key) {\n",
              "        const element = document.querySelector('#df-e3f2b67d-8d2b-402f-88dc-b8944b69328c');\n",
              "        const dataTable =\n",
              "          await google.colab.kernel.invokeFunction('convertToInteractive',\n",
              "                                                    [key], {});\n",
              "        if (!dataTable) return;\n",
              "\n",
              "        const docLinkHtml = 'Like what you see? Visit the ' +\n",
              "          '<a target=\"_blank\" href=https://colab.research.google.com/notebooks/data_table.ipynb>data table notebook</a>'\n",
              "          + ' to learn more about interactive tables.';\n",
              "        element.innerHTML = '';\n",
              "        dataTable['output_type'] = 'display_data';\n",
              "        await google.colab.output.renderOutput(dataTable, element);\n",
              "        const docLink = document.createElement('div');\n",
              "        docLink.innerHTML = docLinkHtml;\n",
              "        element.appendChild(docLink);\n",
              "      }\n",
              "    </script>\n",
              "  </div>\n",
              "\n",
              "\n",
              "    <div id=\"df-19c82d05-0cc6-470a-a8c7-5aac8186c4ad\">\n",
              "      <button class=\"colab-df-quickchart\" onclick=\"quickchart('df-19c82d05-0cc6-470a-a8c7-5aac8186c4ad')\"\n",
              "                title=\"Suggest charts\"\n",
              "                style=\"display:none;\">\n",
              "\n",
              "<svg xmlns=\"http://www.w3.org/2000/svg\" height=\"24px\"viewBox=\"0 0 24 24\"\n",
              "     width=\"24px\">\n",
              "    <g>\n",
              "        <path d=\"M19 3H5c-1.1 0-2 .9-2 2v14c0 1.1.9 2 2 2h14c1.1 0 2-.9 2-2V5c0-1.1-.9-2-2-2zM9 17H7v-7h2v7zm4 0h-2V7h2v10zm4 0h-2v-4h2v4z\"/>\n",
              "    </g>\n",
              "</svg>\n",
              "      </button>\n",
              "\n",
              "<style>\n",
              "  .colab-df-quickchart {\n",
              "      --bg-color: #E8F0FE;\n",
              "      --fill-color: #1967D2;\n",
              "      --hover-bg-color: #E2EBFA;\n",
              "      --hover-fill-color: #174EA6;\n",
              "      --disabled-fill-color: #AAA;\n",
              "      --disabled-bg-color: #DDD;\n",
              "  }\n",
              "\n",
              "  [theme=dark] .colab-df-quickchart {\n",
              "      --bg-color: #3B4455;\n",
              "      --fill-color: #D2E3FC;\n",
              "      --hover-bg-color: #434B5C;\n",
              "      --hover-fill-color: #FFFFFF;\n",
              "      --disabled-bg-color: #3B4455;\n",
              "      --disabled-fill-color: #666;\n",
              "  }\n",
              "\n",
              "  .colab-df-quickchart {\n",
              "    background-color: var(--bg-color);\n",
              "    border: none;\n",
              "    border-radius: 50%;\n",
              "    cursor: pointer;\n",
              "    display: none;\n",
              "    fill: var(--fill-color);\n",
              "    height: 32px;\n",
              "    padding: 0;\n",
              "    width: 32px;\n",
              "  }\n",
              "\n",
              "  .colab-df-quickchart:hover {\n",
              "    background-color: var(--hover-bg-color);\n",
              "    box-shadow: 0 1px 2px rgba(60, 64, 67, 0.3), 0 1px 3px 1px rgba(60, 64, 67, 0.15);\n",
              "    fill: var(--button-hover-fill-color);\n",
              "  }\n",
              "\n",
              "  .colab-df-quickchart-complete:disabled,\n",
              "  .colab-df-quickchart-complete:disabled:hover {\n",
              "    background-color: var(--disabled-bg-color);\n",
              "    fill: var(--disabled-fill-color);\n",
              "    box-shadow: none;\n",
              "  }\n",
              "\n",
              "  .colab-df-spinner {\n",
              "    border: 2px solid var(--fill-color);\n",
              "    border-color: transparent;\n",
              "    border-bottom-color: var(--fill-color);\n",
              "    animation:\n",
              "      spin 1s steps(1) infinite;\n",
              "  }\n",
              "\n",
              "  @keyframes spin {\n",
              "    0% {\n",
              "      border-color: transparent;\n",
              "      border-bottom-color: var(--fill-color);\n",
              "      border-left-color: var(--fill-color);\n",
              "    }\n",
              "    20% {\n",
              "      border-color: transparent;\n",
              "      border-left-color: var(--fill-color);\n",
              "      border-top-color: var(--fill-color);\n",
              "    }\n",
              "    30% {\n",
              "      border-color: transparent;\n",
              "      border-left-color: var(--fill-color);\n",
              "      border-top-color: var(--fill-color);\n",
              "      border-right-color: var(--fill-color);\n",
              "    }\n",
              "    40% {\n",
              "      border-color: transparent;\n",
              "      border-right-color: var(--fill-color);\n",
              "      border-top-color: var(--fill-color);\n",
              "    }\n",
              "    60% {\n",
              "      border-color: transparent;\n",
              "      border-right-color: var(--fill-color);\n",
              "    }\n",
              "    80% {\n",
              "      border-color: transparent;\n",
              "      border-right-color: var(--fill-color);\n",
              "      border-bottom-color: var(--fill-color);\n",
              "    }\n",
              "    90% {\n",
              "      border-color: transparent;\n",
              "      border-bottom-color: var(--fill-color);\n",
              "    }\n",
              "  }\n",
              "</style>\n",
              "\n",
              "      <script>\n",
              "        async function quickchart(key) {\n",
              "          const quickchartButtonEl =\n",
              "            document.querySelector('#' + key + ' button');\n",
              "          quickchartButtonEl.disabled = true;  // To prevent multiple clicks.\n",
              "          quickchartButtonEl.classList.add('colab-df-spinner');\n",
              "          try {\n",
              "            const charts = await google.colab.kernel.invokeFunction(\n",
              "                'suggestCharts', [key], {});\n",
              "          } catch (error) {\n",
              "            console.error('Error during call to suggestCharts:', error);\n",
              "          }\n",
              "          quickchartButtonEl.classList.remove('colab-df-spinner');\n",
              "          quickchartButtonEl.classList.add('colab-df-quickchart-complete');\n",
              "        }\n",
              "        (() => {\n",
              "          let quickchartButtonEl =\n",
              "            document.querySelector('#df-19c82d05-0cc6-470a-a8c7-5aac8186c4ad button');\n",
              "          quickchartButtonEl.style.display =\n",
              "            google.colab.kernel.accessAllowed ? 'block' : 'none';\n",
              "        })();\n",
              "      </script>\n",
              "    </div>\n",
              "\n",
              "    </div>\n",
              "  </div>\n"
            ],
            "application/vnd.google.colaboratory.intrinsic+json": {
              "type": "dataframe",
              "summary": "{\n  \"name\": \"df_main[df_main['channel_title']\",\n  \"rows\": 10,\n  \"fields\": [\n    {\n      \"column\": \"video_title\",\n      \"properties\": {\n        \"dtype\": \"string\",\n        \"num_unique_values\": 8,\n        \"samples\": [\n          \"https://www.youtube.com/watch?v=Qh8vqGj_Dbg\",\n          \"https://www.youtube.com/watch?v=UZwXbecjg1Y\",\n          \"https://www.youtube.com/watch?v=l8dasJTQdw8\"\n        ],\n        \"semantic_type\": \"\",\n        \"description\": \"\"\n      }\n    },\n    {\n      \"column\": \"url\",\n      \"properties\": {\n        \"dtype\": \"string\",\n        \"num_unique_values\": 8,\n        \"samples\": [\n          \"https://www.youtube.com/watch?v=Qh8vqGj_Dbg\",\n          \"https://www.youtube.com/watch?v=UZwXbecjg1Y\",\n          \"https://www.youtube.com/watch?v=l8dasJTQdw8\"\n        ],\n        \"semantic_type\": \"\",\n        \"description\": \"\"\n      }\n    }\n  ]\n}"
            }
          },
          "metadata": {},
          "execution_count": 12
        }
      ]
    },
    {
      "cell_type": "code",
      "source": [
        "mask_valid = df_main['channel_title'].notna() & ~df_main['video_title'].str.contains(\"anuncio\", case=False, na=False)\n",
        "df_main_clean = df_main[mask_valid].copy()"
      ],
      "metadata": {
        "id": "HNGK6UL0Z4kg"
      },
      "id": "HNGK6UL0Z4kg",
      "execution_count": 13,
      "outputs": []
    },
    {
      "cell_type": "code",
      "source": [
        "df_ads = df_main[~mask_valid]\n",
        "df_ads.to_csv(\"data/df_ads_removed.csv\", index=False)"
      ],
      "metadata": {
        "id": "Jj-IlvxaZ7WS"
      },
      "id": "Jj-IlvxaZ7WS",
      "execution_count": 14,
      "outputs": []
    },
    {
      "cell_type": "markdown",
      "source": [
        "Fase 1 — Enriquecimiento semántico con LLM (Gemini o GPT-5)"
      ],
      "metadata": {
        "id": "TC3K0p2-W66r"
      },
      "id": "TC3K0p2-W66r"
    },
    {
      "cell_type": "code",
      "source": [
        "import google.generativeai as genai\n",
        "import os\n",
        "\n",
        "os.environ[\"GEMINI_API_KEY\"] = \"\"\n",
        "genai.configure(api_key=os.environ[\"GEMINI_API_KEY\"])\n",
        "\n",
        "model = genai.GenerativeModel(\"gemini-2.5-flash\")\n",
        "\n",
        "try:\n",
        "    resp = model.generate_content(\"Hola desde Colab 👋\")\n",
        "    print(\"✅ Conexión OK\\n\", resp.text)\n",
        "except Exception as e:\n",
        "    print(\"❌ Error de conexión:\", e)"
      ],
      "metadata": {
        "id": "-kj9G4iJ_Zd_",
        "outputId": "50420b19-c381-44c3-81ef-650eb1f23e5f",
        "colab": {
          "base_uri": "https://localhost:8080/",
          "height": 86
        }
      },
      "id": "-kj9G4iJ_Zd_",
      "execution_count": 15,
      "outputs": [
        {
          "output_type": "stream",
          "name": "stdout",
          "text": [
            "✅ Conexión OK\n",
            " ¡Hola! 👋 ¡Genial que me saludes desde Colab! Parece que estás en un buen ambiente para programar.\n",
            "\n",
            "¿Hay algo en lo que pueda ayudarte hoy o qué estás trabajando por allí? 😊\n"
          ]
        }
      ]
    },
    {
      "cell_type": "code",
      "source": [
        "%%time\n",
        "# ==========================================================\n",
        "# PRUEBA CON LOTE DE 50 VIDEOS\n",
        "# ==========================================================\n",
        "import os\n",
        "import json\n",
        "import time\n",
        "import random\n",
        "import pandas as pd\n",
        "from tqdm.notebook import tqdm\n",
        "import google.generativeai as genai\n",
        "from google.api_core import exceptions\n",
        "\n",
        "# ===================== CONFIGURACIÓN =====================\n",
        "os.environ[\"GEMINI_API_KEY\"] = \"\"  # 👈 pon tu clave\n",
        "genai.configure(api_key=os.environ[\"GEMINI_API_KEY\"])\n",
        "\n",
        "MODEL_NAME = \"gemini-2.5-flash\"\n",
        "BATCH_SIZE = 20     # tamaño del batch (puedes subirlo luego)\n",
        "CACHE_PATH = \"data/processed/enrichment_cache_test.json\"\n",
        "\n",
        "# ===================== CACHE SIMPLE ======================\n",
        "cache = {}\n",
        "\n",
        "import re\n",
        "\n",
        "def classify_batch_with_gemini(batch_df, retries=2):\n",
        "    \"\"\"Analiza un batch pequeño con Gemini 2.5 Flash, robusta ante errores JSON.\"\"\"\n",
        "    pairs = [\n",
        "        f\"{i+1}. {row.video_title} — {row.channel_title}\"\n",
        "        for i, row in batch_df.iterrows()\n",
        "    ]\n",
        "\n",
        "    prompt = f\"\"\"\n",
        "    Analiza los siguientes {len(batch_df)} videos de YouTube.\n",
        "    Devuelve **únicamente** una lista JSON válida donde cada elemento corresponde a un video, con las claves:\n",
        "    \"category\", \"subtopic\", \"format\", \"keywords\" (lista corta).\n",
        "\n",
        "    No incluyas texto adicional ni explicaciones. Solo el JSON.\n",
        "    Videos:\n",
        "    {chr(10).join(pairs)}\n",
        "    \"\"\"\n",
        "\n",
        "    for attempt in range(retries):\n",
        "        try:\n",
        "            model = genai.GenerativeModel(MODEL_NAME)\n",
        "            response = model.generate_content(prompt, request_options={\"timeout\": 45})\n",
        "            text = response.text.strip()\n",
        "\n",
        "            if not text:\n",
        "                raise ValueError(\"Respuesta vacía\")\n",
        "\n",
        "            # 🔹 Intenta extraer solo el bloque JSON con regex (por si Gemini agregó texto)\n",
        "            json_match = re.search(r'\\[.*\\]', text, re.DOTALL)\n",
        "            if json_match:\n",
        "                text = json_match.group(0)\n",
        "\n",
        "            # 🔹 Carga el JSON\n",
        "            results = json.loads(text)\n",
        "\n",
        "            # 🔹 Verifica longitud esperada\n",
        "            if len(results) != len(batch_df):\n",
        "                print(f\"⚠️ Tamaño inconsistente: esperados {len(batch_df)}, recibidos {len(results)}\")\n",
        "                results = [results[0]] * len(batch_df)\n",
        "\n",
        "            return results\n",
        "\n",
        "        except Exception as e:\n",
        "            wait = (2 ** attempt) + random.uniform(0, 1)\n",
        "            print(f\"⚠️ Error intento {attempt+1}: {e} → Reintentando en {wait:.1f}s...\")\n",
        "            time.sleep(wait)\n",
        "\n",
        "    print(\"❌ Falló el batch, devolviendo valores por defecto.\")\n",
        "    return [{\"category\": \"otros\", \"subtopic\": \"otros\", \"format\": \"desconocido\", \"keywords\": []}\n",
        "            for _ in range(len(batch_df))]\n",
        "\n",
        "\n",
        "# ===================== CORRER UNA PRUEBA =====================\n",
        "df_test = df_main_clean.sample(20, random_state=42).reset_index(drop=True)\n",
        "results = []\n",
        "\n",
        "for start in tqdm(range(0, len(df_test), BATCH_SIZE)):\n",
        "    end = start + BATCH_SIZE\n",
        "    batch = df_test.iloc[start:end]\n",
        "    batch_results = classify_batch_with_gemini(batch)\n",
        "    results.extend(batch_results)\n",
        "    time.sleep(1.0)  # pausita para evitar rate limit\n",
        "\n",
        "batch_results"
      ],
      "metadata": {
        "id": "VDCvcEpjnofP",
        "outputId": "075fe572-e755-455b-e448-bc1cd5a9a31c",
        "colab": {
          "base_uri": "https://localhost:8080/",
          "height": 1000,
          "referenced_widgets": [
            "03dc89fc41694ae58ed18a666c8126dc",
            "abad1660555f4409a14008447774ef0f",
            "3d412aef42714f17844d8430e7363aa7",
            "e2ed2ddab54b4481b6c13717b0f3af38",
            "af65311b871148ceaebbf738099add03",
            "15361c62b54e4d7fb84e3f777c8c5327",
            "43870e522f1d4f7a97de907b33c2b48b",
            "45839fb8cf304d4290aa1d96ff515742",
            "458acc61dd7d4d039c769bb9734f2a29",
            "acc54765eb4a4c168e6bc345b4d7d495",
            "09de2b96b9114ebd9d3a175e7dd19817"
          ]
        }
      },
      "id": "VDCvcEpjnofP",
      "execution_count": null,
      "outputs": [
        {
          "output_type": "display_data",
          "data": {
            "text/plain": [
              "  0%|          | 0/1 [00:00<?, ?it/s]"
            ],
            "application/vnd.jupyter.widget-view+json": {
              "version_major": 2,
              "version_minor": 0,
              "model_id": "03dc89fc41694ae58ed18a666c8126dc"
            }
          },
          "metadata": {}
        },
        {
          "output_type": "stream",
          "name": "stdout",
          "text": [
            "CPU times: user 128 ms, sys: 7.11 ms, total: 135 ms\n",
            "Wall time: 14.1 s\n"
          ]
        },
        {
          "output_type": "execute_result",
          "data": {
            "text/plain": [
              "[{'category': 'Music',\n",
              "  'subtopic': 'Latin Pop',\n",
              "  'format': 'Audio Track',\n",
              "  'keywords': ['Pranz', 'Brian Cálar', 'NaWa', 'Igual Que Tú', 'Latin Pop']},\n",
              " {'category': 'Music',\n",
              "  'subtopic': 'Christian Worship',\n",
              "  'format': 'Music Video',\n",
              "  'keywords': ['Hillsong Worship', 'Vasijas Rotas', 'Christian', 'Worship']},\n",
              " {'category': 'Music',\n",
              "  'subtopic': 'Latin Pop',\n",
              "  'format': 'Official Music Video',\n",
              "  'keywords': ['Johann Vera', 'Ojo Por Ojo', 'Latin Pop', 'VEVO']},\n",
              " {'category': 'Music',\n",
              "  'subtopic': 'Spanish Rock/Pop',\n",
              "  'format': 'Official Music Video',\n",
              "  'keywords': ['Jarabe De Palo', 'La Flaca', 'Spanish Rock', 'Videoclip']},\n",
              " {'category': 'Entertainment',\n",
              "  'subtopic': 'Reality TV Show',\n",
              "  'format': 'TV Show Clip',\n",
              "  'keywords': ['Desafío Sobre Fuego',\n",
              "   'Forged in Fire',\n",
              "   'History Channel',\n",
              "   'Espada']},\n",
              " {'category': 'Music',\n",
              "  'subtopic': 'Electronic Dance Music (EDM)',\n",
              "  'format': 'Audio Track (Copyright-Free)',\n",
              "  'keywords': ['JPB', 'Defeat The Night', 'Trap', 'NCS', 'Copyright Free']},\n",
              " {'category': 'Travel & Outdoors',\n",
              "  'subtopic': 'Scuba Diving',\n",
              "  'format': 'VLOG/Travel Video',\n",
              "  'keywords': ['Golfo de Papagayo',\n",
              "   'Diving',\n",
              "   'Scuba',\n",
              "   'Costa Rica',\n",
              "   'Underwater']},\n",
              " {'category': 'Education',\n",
              "  'subtopic': 'Data Science/Machine Learning',\n",
              "  'format': 'Tutorial/Lecture',\n",
              "  'keywords': ['Deep Learning',\n",
              "   'TensorFlow',\n",
              "   'Linear Regression',\n",
              "   'Machine Learning']},\n",
              " {'category': 'Sports',\n",
              "  'subtopic': 'Mountain Biking',\n",
              "  'format': 'Action Cam/VLOG',\n",
              "  'keywords': ['MTB', 'Mountain Biking', 'Heredia', 'Ciclismo', 'Outdoor']},\n",
              " {'category': 'Entertainment',\n",
              "  'subtopic': 'Podcast (Interview)',\n",
              "  'format': 'Podcast Episode',\n",
              "  'keywords': ['Los Gordos Podcast',\n",
              "   'Oscar Lopez',\n",
              "   'Interview',\n",
              "   'Comedy',\n",
              "   'Ruff & Tuff TV']},\n",
              " {'category': 'Music',\n",
              "  'subtopic': 'Acoustic/Surf Rock',\n",
              "  'format': 'Audio Track',\n",
              "  'keywords': ['Jack Johnson', 'In Between Dreams', 'Acoustic', 'Surf Rock']},\n",
              " {'category': 'Entertainment',\n",
              "  'subtopic': 'Travel VLOG / Comedy',\n",
              "  'format': 'VLOG',\n",
              "  'keywords': ['Luisito Comunica',\n",
              "   'WWE',\n",
              "   'Luchador',\n",
              "   'VLOG',\n",
              "   'Travel',\n",
              "   'Comedy']},\n",
              " {'category': 'Music',\n",
              "  'subtopic': 'Reggaeton',\n",
              "  'format': 'Official Music Video',\n",
              "  'keywords': ['J Balvin', 'Rio', 'Reggaeton', 'Latin', 'VEVO']},\n",
              " {'category': 'Entertainment',\n",
              "  'subtopic': 'Talent Show',\n",
              "  'format': 'TV Show Clip',\n",
              "  'keywords': ['Got Talent España',\n",
              "   'Cucko',\n",
              "   'Mimo',\n",
              "   'Audiciones',\n",
              "   'Talent Show']},\n",
              " {'category': 'Sports',\n",
              "  'subtopic': 'Mountain Biking (Maintenance/Review)',\n",
              "  'format': 'Review/Tutorial',\n",
              "  'keywords': ['Fox Tailgate Pad',\n",
              "   'Mountain Bike',\n",
              "   'MTB',\n",
              "   'Bike Maintenance',\n",
              "   'Tutorial']},\n",
              " {'category': 'Music',\n",
              "  'subtopic': 'Electronic Dance Music (EDM) / Pop',\n",
              "  'format': 'Official Music Video',\n",
              "  'keywords': ['Steve Aoki', 'Pretender', 'Lil Yachty', 'AJR', 'EDM', 'Pop']},\n",
              " {'category': 'Music',\n",
              "  'subtopic': 'Latin Pop / Ballad',\n",
              "  'format': 'Audio Track',\n",
              "  'keywords': ['Franco de Vita',\n",
              "   'Claro Que Se Perder',\n",
              "   'Latin Pop',\n",
              "   'Balada']},\n",
              " {'category': 'Music',\n",
              "  'subtopic': 'Latin Trap / Reggaeton',\n",
              "  'format': 'Audio Visualizer',\n",
              "  'keywords': ['Bad Bunny', 'Mora', 'Una Vez', 'Latin Trap', 'Reggaeton']},\n",
              " {'category': 'Travel & Outdoors',\n",
              "  'subtopic': 'Theme Park VLOG',\n",
              "  'format': 'VLOG',\n",
              "  'keywords': ['Ferrari Land',\n",
              "   'Theme Park',\n",
              "   'Amusement Park',\n",
              "   'Travel',\n",
              "   'VLOG']},\n",
              " {'category': 'Music',\n",
              "  'subtopic': 'Latin Urban / Reggaeton',\n",
              "  'format': 'Official Music Video',\n",
              "  'keywords': ['Farruko', 'Me Levanto', 'Latin Urban', 'Reggaeton', 'VEVO']}]"
            ]
          },
          "metadata": {},
          "execution_count": 15
        }
      ]
    },
    {
      "cell_type": "markdown",
      "id": "1d53a88c",
      "metadata": {
        "id": "1d53a88c"
      },
      "source": [
        "\n",
        "# **Proyecto 1 — Tu Huella YouTube: Recomendador & Burbuja Algorítmica**\n",
        "\n",
        "### Objetivo\n",
        "1) Construir **dos recomendadores** con tus datos de visualización:  \n",
        "   - **Baseline de popularidad** (o popularidad por canal/categoría).  \n",
        "   - **Modelo basado en contenido** (TF‑IDF/embeddings por título/canal) **o** **colaborativo** (si tienes interacciones de múltiples usuarios/fuentes).  \n",
        "2) Medir **Precision@k, Recall@k y Coverage** (y *diversidad*) en un esquema **offline**.  \n",
        "3) Analizar posibles **sesgos o “burbujas”** (temas/canales dominantes por hora, día, duración).  \n",
        "\n",
        "### Requisitos mínimos\n",
        "- **EDA**: distribución de vistas por canal, hora del día, día de semana, duración de sesiones, *top‑k* temas.  \n",
        "- **Ingeniería de features** (ej.: tokenización títulos, lematización opcional, normalización de canales).  \n",
        "- **Comparación de al menos 2 enfoques** de recomendación.  \n",
        "- **Evaluación offline** con *train/test split temporal*.  \n",
        "- **Análisis de errores** y discusión de sesgos/limitaciones.\n",
        "\n",
        "---\n",
        "\n",
        "## 4. Charter del Proyecto 1 (llenar)\n",
        "**TODO:** Define el propósito, preguntas clave y utilidad (qué decisiones permitirán tus hallazgos).\n"
      ]
    },
    {
      "cell_type": "code",
      "source": [],
      "metadata": {
        "id": "HXGPmGWsWwR1"
      },
      "id": "HXGPmGWsWwR1",
      "execution_count": null,
      "outputs": []
    },
    {
      "cell_type": "markdown",
      "id": "38774f14",
      "metadata": {
        "id": "38774f14"
      },
      "source": [
        "\n",
        "## 5. Carga de datos (Proyecto 1)\n",
        "**TODO:** Sube tu `watch-history.json` (anonimizado si aplica) a `data/` y cárgalo.\n"
      ]
    },
    {
      "cell_type": "markdown",
      "id": "7e32a093",
      "metadata": {
        "id": "7e32a093"
      },
      "source": [
        "\n",
        "## 6. EDA (Proyecto 1)\n",
        "**TODO:** Explora sesgos por canal/tema/horario. Muestra tablas y gráficos clave.\n"
      ]
    },
    {
      "cell_type": "code",
      "execution_count": null,
      "id": "1c6b0474",
      "metadata": {
        "id": "1c6b0474",
        "outputId": "5acd93bd-049d-4844-dc45-43c0d5738467",
        "colab": {
          "base_uri": "https://localhost:8080/"
        }
      },
      "outputs": [
        {
          "output_type": "stream",
          "name": "stdout",
          "text": [
            "channel\n",
            "Respuesta: Ninguna de las anteriores    1\n",
            "Name: count, dtype: int64\n",
            "hour\n",
            "0     589\n",
            "1     607\n",
            "2     561\n",
            "3     589\n",
            "4     486\n",
            "5     311\n",
            "6     186\n",
            "7      99\n",
            "8      41\n",
            "9      47\n",
            "10     40\n",
            "11     78\n",
            "12    354\n",
            "13    738\n",
            "14    671\n",
            "15    717\n",
            "16    648\n",
            "17    719\n",
            "18    988\n",
            "19    779\n",
            "20    707\n",
            "21    668\n",
            "22    635\n",
            "23    832\n",
            "Name: count, dtype: int64\n"
          ]
        }
      ],
      "source": [
        "\n",
        "# TODO: EDA — ejemplos\n",
        "# Conteos por canal\n",
        "if 'channel' in df_watch.columns:\n",
        "    print(df_watch['channel'].value_counts().head(15))\n",
        "\n",
        "# Distribución por hora (si hay timestamps)\n",
        "df_watch['hour'] = df_watch['timestamp'].dt.hour\n",
        "print(df_watch['hour'].value_counts().sort_index())\n",
        "\n",
        "# (Agrega visualizaciones y tablas adicionales)\n"
      ]
    },
    {
      "cell_type": "markdown",
      "id": "35c69ef9",
      "metadata": {
        "id": "35c69ef9"
      },
      "source": [
        "\n",
        "## 7. Partición temporal y definición de tareas (Proyecto 1)\n",
        "**TODO:** Define ventana de entrenamiento y de evaluación para recomendación **offline**.\n"
      ]
    },
    {
      "cell_type": "code",
      "execution_count": null,
      "id": "a4c0a861",
      "metadata": {
        "id": "a4c0a861"
      },
      "outputs": [],
      "source": [
        "\n",
        "# Split temporal: por ejemplo, último 20% del tiempo como test\n",
        "cut_ts = df_watch['timestamp'].quantile(0.8)\n",
        "train = df_watch[df_watch['timestamp'] <= cut_ts].copy()\n",
        "test  = df_watch[df_watch['timestamp'] >  cut_ts].copy()\n",
        "\n",
        "print(\"train:\", train['timestamp'].min(), \"->\", train['timestamp'].max(), \"n=\", len(train))\n",
        "print(\"test :\", test['timestamp'].min(),  \"->\", test['timestamp'].max(),  \"n=\", len(test))\n"
      ]
    },
    {
      "cell_type": "markdown",
      "id": "fcf711a3",
      "metadata": {
        "id": "fcf711a3"
      },
      "source": [
        "\n",
        "## 8. Baseline de popularidad (Proyecto 1)\n",
        "Genera recomendaciones **sin personalización** como referencia.\n"
      ]
    },
    {
      "cell_type": "code",
      "execution_count": null,
      "id": "a2b18472",
      "metadata": {
        "id": "a2b18472"
      },
      "outputs": [],
      "source": [
        "\n",
        "# Top-N por popularidad (baseline)\n",
        "K = 10  # tamaño de recomendación\n",
        "top_items = train['video_id'].value_counts().head(100).index.tolist()\n",
        "\n",
        "def recommend_popularity(k=K):\n",
        "    return top_items[:k]\n",
        "\n",
        "# Conjunto de ítems verdaderos en test (lo visto en test)\n",
        "true_items = set(test['video_id'].dropna().unique().tolist())\n",
        "\n",
        "def precision_at_k(recommended, true_set):\n",
        "    if len(recommended) == 0: return 0.0\n",
        "    hit = sum(1 for x in recommended if x in true_set)\n",
        "    return hit / len(recommended)\n",
        "\n",
        "def recall_at_k(recommended, true_set):\n",
        "    if len(true_set) == 0: return 0.0\n",
        "    hit = sum(1 for x in recommended if x in true_set)\n",
        "    return hit / len(true_set)\n",
        "\n",
        "# Eval baseline\n",
        "rec = recommend_popularity(K)\n",
        "p = precision_at_k(rec, true_items)\n",
        "r = recall_at_k(rec, true_items)\n",
        "coverage = len(set(top_items)) / max(1, df_watch['video_id'].nunique())\n",
        "\n",
        "print(f\"Baseline Popularidad -> P@{K}={p:.3f}  R@{K}={r:.3f}  Cobertura={coverage:.3f}\")"
      ]
    },
    {
      "cell_type": "markdown",
      "id": "97f75a6b",
      "metadata": {
        "id": "97f75a6b"
      },
      "source": [
        "\n",
        "## 9. Recomendador basado en contenido **(ejemplo TF-IDF por título/canal)**\n",
        "**TODO:** Implementa TF‑IDF (o embeddings) y calcula similitud contenido‑a‑contenido para recomendar.\n"
      ]
    },
    {
      "cell_type": "code",
      "execution_count": null,
      "id": "23706ddb",
      "metadata": {
        "id": "23706ddb"
      },
      "outputs": [],
      "source": [
        "\n",
        "# EJEMPLO ESQUELETO (completa con TF-IDF real si lo deseas)\n",
        "# Aquí usamos una heurística mínima por canal/tokens de título para ilustrar el flujo.\n",
        "\n",
        "from collections import Counter\n",
        "\n",
        "def tokenize_title(s):\n",
        "    if pd.isna(s): return []\n",
        "    s = s.lower()\n",
        "    s = re.sub(r\"[^a-z0-9áéíóúüñ\\s]\", \" \", s)\n",
        "    tok = [t for t in s.split() if len(t) > 2]\n",
        "    return tok\n",
        "\n",
        "train = train.copy()\n",
        "train['tokens'] = train['title'].apply(tokenize_title)\n",
        "\n",
        "# \"Perfil\" de intereses por tokens (muy básico)\n",
        "profile = Counter(itertools.chain.from_iterable(train['tokens'].tolist()))\n",
        "top_terms = [t for t, _ in profile.most_common(50)]\n",
        "\n",
        "def recommend_content_based(k=10):\n",
        "    # Recomienda ítems del set de entrenamiento por coincidencia con términos del perfil\n",
        "    scores = []\n",
        "    for vid, grp in train.groupby('video_id'):\n",
        "        toks = list(itertools.chain.from_iterable(grp['tokens'].tolist()))\n",
        "        score = sum(1 for t in toks if t in top_terms)\n",
        "        scores.append((vid, score))\n",
        "    scores.sort(key=lambda x: x[1], reverse=True)\n",
        "    return [vid for vid, s in scores[:k]]\n",
        "\n",
        "rec_cb = recommend_content_based(K)\n",
        "p_cb = precision_at_k(rec_cb, true_items)\n",
        "r_cb = recall_at_k(rec_cb, true_items)\n",
        "cov_cb = len(set(train['video_id'])) / max(1, df_watch['video_id'].nunique())\n",
        "print(f\"Contenido (heurístico) -> P@{K}={p_cb:.3f}  R@{K}={r_cb:.3f}  Cobertura={cov_cb:.3f}\")\n",
        "\n",
        "# TODO: Sustituir por TF-IDF/embeddings reales y mejorar evaluación (por usuario/ventanas).\n"
      ]
    },
    {
      "cell_type": "markdown",
      "id": "e38b1533",
      "metadata": {
        "id": "e38b1533"
      },
      "source": [
        "\n",
        "## 10. Análisis de burbuja/sesgo (Proyecto 1)\n",
        "**TODO:** Mide concentración por canal/tema, horarios de consumo, diversidad de recomendaciones.\n",
        "Propón **intervenciones** para aumentar diversidad sin perder pertinencia.\n"
      ]
    },
    {
      "cell_type": "markdown",
      "id": "2fee1328",
      "metadata": {
        "id": "2fee1328"
      },
      "source": [
        "\n",
        "## 11. Conclusiones y trabajo futuro (Proyecto 1)\n",
        "**TODO:** Resume hallazgos, limitaciones y siguientes pasos.\n"
      ]
    },
    {
      "cell_type": "markdown",
      "id": "2b71cd1e",
      "metadata": {
        "id": "2b71cd1e"
      },
      "source": [
        "\n",
        "# **Proyecto 2 — Detección de “Doomscrolling” (Clasificación Temporal)**\n",
        "\n",
        "### Objetivo\n",
        "Predecir si una **sesión** de consumo (YouTube u otra plataforma) terminará en **scroll extendido** o **consumo prolongado** (> X minutos o > Y videos).\n",
        "\n",
        "### Requisitos mínimos\n",
        "- **Definición de etiqueta** (doomscroll = 1 si supera umbral de tiempo o conteo).  \n",
        "- **Sessionization** con ventana de inactividad (p. ej., 30 minutos).  \n",
        "- **Features temporales** (hora/día, ritmos, gaps), contextuales (tema/canal) y de **acumulación**.  \n",
        "- **Validación temporal** (e.g., TimeSeriesSplit) para evitar *leakage*.  \n",
        "- **Comparación de al menos 2 clasificadores** (baseline + modelo).  \n",
        "- **Métricas**: precisión, recall, F1, ROC‑AUC, matriz de confusión por segmento.  \n",
        "- **Error analysis** e importancia de variables.\n",
        "\n",
        "---\n",
        "\n",
        "## 12. Charter del Proyecto 2 (llenar)\n",
        "**TODO:** Propósito, hipótesis y utilidad (p. ej., alertas o cortes saludables de uso).\n"
      ]
    },
    {
      "cell_type": "markdown",
      "id": "8ddce208",
      "metadata": {
        "id": "8ddce208"
      },
      "source": [
        "\n",
        "## 13. Carga de datos (Proyecto 2)\n",
        "**TODO:** Reutiliza `watch-history.json` u otra fuente y genera sesiones.\n"
      ]
    },
    {
      "cell_type": "code",
      "execution_count": null,
      "id": "c8d8929a",
      "metadata": {
        "id": "c8d8929a"
      },
      "outputs": [],
      "source": [
        "\n",
        "# Ejemplo de carga y sessionization\n",
        "PATH_WATCH = \"data/watch-history.json\"  # TODO: cambia si es necesario\n",
        "df_watch = load_watch_history(PATH_WATCH)\n",
        "\n",
        "# Crea sesiones (ajusta gap si aplica)\n",
        "df_sess = sessionize(df_watch, gap_minutes=30)\n",
        "\n",
        "# Etiqueta doomscrolling: duración > umbral (estimación proxy por número de eventos)\n",
        "UMBRAL_VIDEOS = 8  # TODO: ajusta criterio (o usa tiempo real si lo tienes)\n",
        "sess_counts = df_sess.groupby('session_id').size().rename('n_events')\n",
        "df_labels = sess_counts.to_frame().assign(doom=lambda x: (x['n_events'] >= UMBRAL_VIDEOS).astype(int)).reset_index()\n",
        "\n",
        "print(df_labels['doom'].value_counts())\n",
        "df_labels.head()\n"
      ]
    },
    {
      "cell_type": "markdown",
      "id": "89362440",
      "metadata": {
        "id": "89362440"
      },
      "source": [
        "\n",
        "## 14. Features y partición temporal (Proyecto 2)\n",
        "**TODO:** Crear variables por sesión (hora de inicio, día de semana, gaps promedio, temas/canales dominantes, ritmo).  \n",
        "Usa **TimeSeriesSplit** o una corte temporal para evaluación.\n"
      ]
    },
    {
      "cell_type": "code",
      "execution_count": null,
      "id": "a7f7bbe4",
      "metadata": {
        "id": "a7f7bbe4"
      },
      "outputs": [],
      "source": [
        "\n",
        "# Construcción simple de features por sesión (extiende según tus datos)\n",
        "def build_session_features(df_watch, df_sess):\n",
        "    # Hora de inicio de la sesión, día de semana, tamaño de sesión, ritmo aproximado\n",
        "    start_ts = df_sess.groupby('session_id')['timestamp'].min().rename('start_ts')\n",
        "    end_ts   = df_sess.groupby('session_id')['timestamp'].max().rename('end_ts')\n",
        "    n_events = df_sess.groupby('session_id').size().rename('n_events')\n",
        "\n",
        "    base = pd.concat([start_ts, end_ts, n_events], axis=1).reset_index()\n",
        "    base['duration_min'] = (base['end_ts'] - base['start_ts']).dt.total_seconds() / 60.0\n",
        "    base['hour'] = base['start_ts'].dt.hour\n",
        "    base['dow'] = base['start_ts'].dt.dayofweek  # 0=Lunes\n",
        "    base['events_per_min'] = base['n_events'] / base['duration_min'].replace(0, np.nan)\n",
        "\n",
        "    # (Opcional) top canal por sesión\n",
        "    top_channel = (\n",
        "        df_sess.groupby(['session_id','channel']).size()\n",
        "        .reset_index(name='cnt')\n",
        "        .sort_values(['session_id','cnt'], ascending=[True, False])\n",
        "        .drop_duplicates('session_id')\n",
        "        .set_index('session_id')['channel']\n",
        "        .rename('top_channel')\n",
        "    )\n",
        "    base = base.merge(top_channel, left_on='session_id', right_index=True, how='left')\n",
        "\n",
        "    # Codificación simple de canal principal (dummy)\n",
        "    if 'top_channel' in base.columns:\n",
        "        dummies = pd.get_dummies(base['top_channel'], prefix='ch', dummy_na=True)\n",
        "        base = pd.concat([base.drop(columns=['top_channel']), dummies], axis=1)\n",
        "\n",
        "    return base\n",
        "\n",
        "df_feat = build_session_features(df_watch, df_sess)\n",
        "df_all = df_feat.merge(df_labels, on='session_id', how='inner')\n",
        "\n",
        "# Partición temporal (último 20% del tiempo como test)\n",
        "cut_ts = df_all['start_ts'].quantile(0.8)\n",
        "train = df_all[df_all['start_ts'] <= cut_ts].copy()\n",
        "test  = df_all[df_all['start_ts'] >  cut_ts].copy()\n",
        "\n",
        "y_train = train['doom'].values\n",
        "y_test  = test['doom'].values\n",
        "\n",
        "X_train = train.drop(columns=['doom','start_ts','end_ts'])\n",
        "X_test  = test.drop(columns=['doom','start_ts','end_ts'])\n",
        "\n",
        "print(\"Train/Test shapes:\", X_train.shape, X_test.shape)\n"
      ]
    },
    {
      "cell_type": "markdown",
      "id": "5bab5798",
      "metadata": {
        "id": "5bab5798"
      },
      "source": [
        "\n",
        "## 15. Baseline y Modelo(s) (Proyecto 2)\n",
        "**TODO:** Compara un baseline (mayoría/clasificador trivial) con al menos **un modelo** (p. ej., Árboles/GBM/RegLog).\n"
      ]
    },
    {
      "cell_type": "code",
      "execution_count": null,
      "id": "0083a6b8",
      "metadata": {
        "id": "0083a6b8"
      },
      "outputs": [],
      "source": [
        "\n",
        "# Baseline: clase mayoritaria\n",
        "from collections import Counter\n",
        "majority = Counter(y_train).most_common(1)[0][0]\n",
        "y_pred_base = np.full_like(y_test, fill_value=majority)\n",
        "print(\"Baseline (mayoría) -> acc=%.3f  prec=%.3f  rec=%.3f  f1=%.3f\" % (\n",
        "    accuracy_score(y_test, y_pred_base),\n",
        "    precision_score(y_test, y_pred_base, zero_division=0),\n",
        "    recall_score(y_test, y_pred_base, zero_division=0),\n",
        "    f1_score(y_test, y_pred_base, zero_division=0)\n",
        "))\n",
        "\n",
        "# Modelo ejemplo: Regresión Logística (puedes sustituir por otro)\n",
        "from sklearn.linear_model import LogisticRegression\n",
        "clf = LogisticRegression(max_iter=1000, random_state=SEED)\n",
        "clf.fit(X_train.fillna(0), y_train)\n",
        "y_proba = clf.predict_proba(X_test.fillna(0))[:,1]\n",
        "y_pred = (y_proba >= 0.5).astype(int)\n",
        "\n",
        "print(\"LogReg -> acc=%.3f  prec=%.3f  rec=%.3f  f1=%.3f  roc=%.3f\" % (\n",
        "    accuracy_score(y_test, y_pred),\n",
        "    precision_score(y_test, y_pred, zero_division=0),\n",
        "    recall_score(y_test, y_pred, zero_division=0),\n",
        "    f1_score(y_test, y_pred, zero_division=0),\n",
        "    roc_auc_score(y_test, y_proba) if len(np.unique(y_test))>1 else float('nan')\n",
        "))\n"
      ]
    },
    {
      "cell_type": "markdown",
      "id": "5044e09f",
      "metadata": {
        "id": "5044e09f"
      },
      "source": [
        "\n",
        "## 16. Análisis de errores e importancia de variables (Proyecto 2)\n",
        "**TODO:** Muestra matriz de confusión, curvas y comenta falsos positivos/negativos por segmento.\n"
      ]
    },
    {
      "cell_type": "code",
      "execution_count": null,
      "id": "41095552",
      "metadata": {
        "id": "41095552"
      },
      "outputs": [],
      "source": [
        "\n",
        "# Matriz de confusión (numérica)\n",
        "cm = confusion_matrix(y_test, y_pred)\n",
        "cm\n"
      ]
    },
    {
      "cell_type": "markdown",
      "id": "a29c3b17",
      "metadata": {
        "id": "a29c3b17"
      },
      "source": [
        "\n",
        "## 17. Conclusiones y trabajo futuro (Proyecto 2)\n",
        "**TODO:** Resume hallazgos, utilidad práctica (alertas, límites de tiempo, recomendaciones) y próximos pasos.\n"
      ]
    },
    {
      "cell_type": "markdown",
      "id": "bae64966",
      "metadata": {
        "id": "bae64966"
      },
      "source": [
        "\n",
        "---\n",
        "\n",
        "## 18. Limitaciones generales y reflexiones éticas\n",
        "**TODO:** Reflexiona sobre sesgos, representatividad de datos personales, efectos de recomendación, privacidad y seguridad.\n",
        "\n",
        "## 19. Checklist final\n",
        "- [ ] El cuaderno **corre desde cero** (Runtime -> Restart & Run All).  \n",
        "- [ ] Incluye **diccionario de datos** y **anexo de privacidad**.  \n",
        "- [ ] Tiene **baselines** y **≥2 modelos** comparados (según el proyecto).  \n",
        "- [ ] Reporta **métricas** adecuadas y **análisis de errores**.  \n",
        "- [ ] Conclusiones accionables y **trabajo futuro**.\n",
        "\n"
      ]
    }
  ],
  "metadata": {
    "colab": {
      "provenance": []
    },
    "language_info": {
      "name": "python"
    },
    "kernelspec": {
      "name": "python3",
      "display_name": "Python 3"
    },
    "widgets": {
      "application/vnd.jupyter.widget-state+json": {
        "03dc89fc41694ae58ed18a666c8126dc": {
          "model_module": "@jupyter-widgets/controls",
          "model_name": "HBoxModel",
          "model_module_version": "1.5.0",
          "state": {
            "_dom_classes": [],
            "_model_module": "@jupyter-widgets/controls",
            "_model_module_version": "1.5.0",
            "_model_name": "HBoxModel",
            "_view_count": null,
            "_view_module": "@jupyter-widgets/controls",
            "_view_module_version": "1.5.0",
            "_view_name": "HBoxView",
            "box_style": "",
            "children": [
              "IPY_MODEL_abad1660555f4409a14008447774ef0f",
              "IPY_MODEL_3d412aef42714f17844d8430e7363aa7",
              "IPY_MODEL_e2ed2ddab54b4481b6c13717b0f3af38"
            ],
            "layout": "IPY_MODEL_af65311b871148ceaebbf738099add03"
          }
        },
        "abad1660555f4409a14008447774ef0f": {
          "model_module": "@jupyter-widgets/controls",
          "model_name": "HTMLModel",
          "model_module_version": "1.5.0",
          "state": {
            "_dom_classes": [],
            "_model_module": "@jupyter-widgets/controls",
            "_model_module_version": "1.5.0",
            "_model_name": "HTMLModel",
            "_view_count": null,
            "_view_module": "@jupyter-widgets/controls",
            "_view_module_version": "1.5.0",
            "_view_name": "HTMLView",
            "description": "",
            "description_tooltip": null,
            "layout": "IPY_MODEL_15361c62b54e4d7fb84e3f777c8c5327",
            "placeholder": "​",
            "style": "IPY_MODEL_43870e522f1d4f7a97de907b33c2b48b",
            "value": "100%"
          }
        },
        "3d412aef42714f17844d8430e7363aa7": {
          "model_module": "@jupyter-widgets/controls",
          "model_name": "FloatProgressModel",
          "model_module_version": "1.5.0",
          "state": {
            "_dom_classes": [],
            "_model_module": "@jupyter-widgets/controls",
            "_model_module_version": "1.5.0",
            "_model_name": "FloatProgressModel",
            "_view_count": null,
            "_view_module": "@jupyter-widgets/controls",
            "_view_module_version": "1.5.0",
            "_view_name": "ProgressView",
            "bar_style": "success",
            "description": "",
            "description_tooltip": null,
            "layout": "IPY_MODEL_45839fb8cf304d4290aa1d96ff515742",
            "max": 1,
            "min": 0,
            "orientation": "horizontal",
            "style": "IPY_MODEL_458acc61dd7d4d039c769bb9734f2a29",
            "value": 1
          }
        },
        "e2ed2ddab54b4481b6c13717b0f3af38": {
          "model_module": "@jupyter-widgets/controls",
          "model_name": "HTMLModel",
          "model_module_version": "1.5.0",
          "state": {
            "_dom_classes": [],
            "_model_module": "@jupyter-widgets/controls",
            "_model_module_version": "1.5.0",
            "_model_name": "HTMLModel",
            "_view_count": null,
            "_view_module": "@jupyter-widgets/controls",
            "_view_module_version": "1.5.0",
            "_view_name": "HTMLView",
            "description": "",
            "description_tooltip": null,
            "layout": "IPY_MODEL_acc54765eb4a4c168e6bc345b4d7d495",
            "placeholder": "​",
            "style": "IPY_MODEL_09de2b96b9114ebd9d3a175e7dd19817",
            "value": " 1/1 [00:14&lt;00:00, 14.05s/it]"
          }
        },
        "af65311b871148ceaebbf738099add03": {
          "model_module": "@jupyter-widgets/base",
          "model_name": "LayoutModel",
          "model_module_version": "1.2.0",
          "state": {
            "_model_module": "@jupyter-widgets/base",
            "_model_module_version": "1.2.0",
            "_model_name": "LayoutModel",
            "_view_count": null,
            "_view_module": "@jupyter-widgets/base",
            "_view_module_version": "1.2.0",
            "_view_name": "LayoutView",
            "align_content": null,
            "align_items": null,
            "align_self": null,
            "border": null,
            "bottom": null,
            "display": null,
            "flex": null,
            "flex_flow": null,
            "grid_area": null,
            "grid_auto_columns": null,
            "grid_auto_flow": null,
            "grid_auto_rows": null,
            "grid_column": null,
            "grid_gap": null,
            "grid_row": null,
            "grid_template_areas": null,
            "grid_template_columns": null,
            "grid_template_rows": null,
            "height": null,
            "justify_content": null,
            "justify_items": null,
            "left": null,
            "margin": null,
            "max_height": null,
            "max_width": null,
            "min_height": null,
            "min_width": null,
            "object_fit": null,
            "object_position": null,
            "order": null,
            "overflow": null,
            "overflow_x": null,
            "overflow_y": null,
            "padding": null,
            "right": null,
            "top": null,
            "visibility": null,
            "width": null
          }
        },
        "15361c62b54e4d7fb84e3f777c8c5327": {
          "model_module": "@jupyter-widgets/base",
          "model_name": "LayoutModel",
          "model_module_version": "1.2.0",
          "state": {
            "_model_module": "@jupyter-widgets/base",
            "_model_module_version": "1.2.0",
            "_model_name": "LayoutModel",
            "_view_count": null,
            "_view_module": "@jupyter-widgets/base",
            "_view_module_version": "1.2.0",
            "_view_name": "LayoutView",
            "align_content": null,
            "align_items": null,
            "align_self": null,
            "border": null,
            "bottom": null,
            "display": null,
            "flex": null,
            "flex_flow": null,
            "grid_area": null,
            "grid_auto_columns": null,
            "grid_auto_flow": null,
            "grid_auto_rows": null,
            "grid_column": null,
            "grid_gap": null,
            "grid_row": null,
            "grid_template_areas": null,
            "grid_template_columns": null,
            "grid_template_rows": null,
            "height": null,
            "justify_content": null,
            "justify_items": null,
            "left": null,
            "margin": null,
            "max_height": null,
            "max_width": null,
            "min_height": null,
            "min_width": null,
            "object_fit": null,
            "object_position": null,
            "order": null,
            "overflow": null,
            "overflow_x": null,
            "overflow_y": null,
            "padding": null,
            "right": null,
            "top": null,
            "visibility": null,
            "width": null
          }
        },
        "43870e522f1d4f7a97de907b33c2b48b": {
          "model_module": "@jupyter-widgets/controls",
          "model_name": "DescriptionStyleModel",
          "model_module_version": "1.5.0",
          "state": {
            "_model_module": "@jupyter-widgets/controls",
            "_model_module_version": "1.5.0",
            "_model_name": "DescriptionStyleModel",
            "_view_count": null,
            "_view_module": "@jupyter-widgets/base",
            "_view_module_version": "1.2.0",
            "_view_name": "StyleView",
            "description_width": ""
          }
        },
        "45839fb8cf304d4290aa1d96ff515742": {
          "model_module": "@jupyter-widgets/base",
          "model_name": "LayoutModel",
          "model_module_version": "1.2.0",
          "state": {
            "_model_module": "@jupyter-widgets/base",
            "_model_module_version": "1.2.0",
            "_model_name": "LayoutModel",
            "_view_count": null,
            "_view_module": "@jupyter-widgets/base",
            "_view_module_version": "1.2.0",
            "_view_name": "LayoutView",
            "align_content": null,
            "align_items": null,
            "align_self": null,
            "border": null,
            "bottom": null,
            "display": null,
            "flex": null,
            "flex_flow": null,
            "grid_area": null,
            "grid_auto_columns": null,
            "grid_auto_flow": null,
            "grid_auto_rows": null,
            "grid_column": null,
            "grid_gap": null,
            "grid_row": null,
            "grid_template_areas": null,
            "grid_template_columns": null,
            "grid_template_rows": null,
            "height": null,
            "justify_content": null,
            "justify_items": null,
            "left": null,
            "margin": null,
            "max_height": null,
            "max_width": null,
            "min_height": null,
            "min_width": null,
            "object_fit": null,
            "object_position": null,
            "order": null,
            "overflow": null,
            "overflow_x": null,
            "overflow_y": null,
            "padding": null,
            "right": null,
            "top": null,
            "visibility": null,
            "width": null
          }
        },
        "458acc61dd7d4d039c769bb9734f2a29": {
          "model_module": "@jupyter-widgets/controls",
          "model_name": "ProgressStyleModel",
          "model_module_version": "1.5.0",
          "state": {
            "_model_module": "@jupyter-widgets/controls",
            "_model_module_version": "1.5.0",
            "_model_name": "ProgressStyleModel",
            "_view_count": null,
            "_view_module": "@jupyter-widgets/base",
            "_view_module_version": "1.2.0",
            "_view_name": "StyleView",
            "bar_color": null,
            "description_width": ""
          }
        },
        "acc54765eb4a4c168e6bc345b4d7d495": {
          "model_module": "@jupyter-widgets/base",
          "model_name": "LayoutModel",
          "model_module_version": "1.2.0",
          "state": {
            "_model_module": "@jupyter-widgets/base",
            "_model_module_version": "1.2.0",
            "_model_name": "LayoutModel",
            "_view_count": null,
            "_view_module": "@jupyter-widgets/base",
            "_view_module_version": "1.2.0",
            "_view_name": "LayoutView",
            "align_content": null,
            "align_items": null,
            "align_self": null,
            "border": null,
            "bottom": null,
            "display": null,
            "flex": null,
            "flex_flow": null,
            "grid_area": null,
            "grid_auto_columns": null,
            "grid_auto_flow": null,
            "grid_auto_rows": null,
            "grid_column": null,
            "grid_gap": null,
            "grid_row": null,
            "grid_template_areas": null,
            "grid_template_columns": null,
            "grid_template_rows": null,
            "height": null,
            "justify_content": null,
            "justify_items": null,
            "left": null,
            "margin": null,
            "max_height": null,
            "max_width": null,
            "min_height": null,
            "min_width": null,
            "object_fit": null,
            "object_position": null,
            "order": null,
            "overflow": null,
            "overflow_x": null,
            "overflow_y": null,
            "padding": null,
            "right": null,
            "top": null,
            "visibility": null,
            "width": null
          }
        },
        "09de2b96b9114ebd9d3a175e7dd19817": {
          "model_module": "@jupyter-widgets/controls",
          "model_name": "DescriptionStyleModel",
          "model_module_version": "1.5.0",
          "state": {
            "_model_module": "@jupyter-widgets/controls",
            "_model_module_version": "1.5.0",
            "_model_name": "DescriptionStyleModel",
            "_view_count": null,
            "_view_module": "@jupyter-widgets/base",
            "_view_module_version": "1.2.0",
            "_view_name": "StyleView",
            "description_width": ""
          }
        }
      }
    }
  },
  "nbformat": 4,
  "nbformat_minor": 5
}