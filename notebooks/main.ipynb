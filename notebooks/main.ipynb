{
  "cells": [
    {
      "cell_type": "markdown",
      "id": "8ff0ef39",
      "metadata": {
        "id": "8ff0ef39"
      },
      "source": [
        "\n",
        "# **Cuaderno de Proyecto — Ciencia de Datos con YouTube**\n",
        "**Curso:** SINT-200  \n",
        "**Profesor:** Dr. Tomás de Camino Beck  \n",
        "**Estudiante(s):** _Bernal Rojas Villalobos_  \n",
        "**Fecha de entrega:** 21 de Octubre\n",
        "\n",
        "---\n",
        "\n",
        "## Instrucciones Generales\n",
        "\n",
        "Reto: Exportar datos de tu actividad YouTube (Google Takeout), construir una matriz usuario-contenido con señales (vistas, likes, tiempo, etc.), hacer EDA de sesgos/“burbujas”, y entrenar dos recomendadores (colaborativo vs. basado en contenido). Comparar métricas (cosas como precision@k, recall@k, cobertura) y explicar errores.  \n",
        "\n",
        "\n",
        "\n",
        "Este cuaderno sirve como **especificación y entregable** del proyecto. Debes completar cada sección marcada con **TODO** y dejar celdas de código **ejecutables** y **reproducibles**. El reto tiene dos proyectos:\n",
        "\n",
        "1. **Proyecto 1 — Tu Huella YouTube: Recomendador y Análisis de Burbuja Algorítmica.**  \n",
        "2. **Proyecto 2 — Detección de “Doomscrolling”: Predicción de sesiones extendidas.**\n",
        "\n",
        "### Ética y Privacidad de Datos\n",
        "- Puedes **anonimizar** tu información de YouTube (IDs, títulos, canales, tiempos) antes de subirla aquí.  \n",
        "- Alternativamente, puedes usar datos de otra persona **con su consentimiento informado** y **anonimizados**.  \n",
        "- No incluyas PII (información personal identificable) ni material sensible.  \n",
        "- Incluye un **Anexo de Privacidad** explicando qué datos usaste, cómo los obtuviste y cómo los protegiste.\n",
        "\n",
        "### Entregables\n",
        "- Este **cuaderno de Colab** completo y ejecutable.  \n",
        "- Carpeta `data/` con **muestras** de los datos (o datos sintéticos/anonimizados).  \n",
        "- **Diccionario de datos** (descripción de campos, tipos, unidades, supuestos).  \n",
        "- **Resultados y visualizaciones** dentro del notebook.  \n",
        "- **Conclusiones** + **Recomendaciones** (acciones sugeridas) + **Limitaciones** + **Trabajo futuro**.\n",
        "- Repositorio con estructura mínima:  \n",
        "  ```\n",
        "  README.md\n",
        "  data/        # muestras o datos anonimizados\n",
        "  notebooks/   # este cuaderno\n",
        "  src/         # funciones reutilizables\n",
        "  reports/     # figuras / tablas clave\n",
        "  ```\n",
        "\n",
        "### Rúbrica (100 pts)\n",
        "- **Charter/Problema y utilidad (10 pts)**: objetivos claros, hipótesis, valor para el usuario.  \n",
        "- **Adquisición y calidad de datos (10 pts)**: trazabilidad, permisos, limpieza básica.  \n",
        "- **EDA y visualizaciones (20 pts)**: distribución, outliers, correlaciones, sesgos/segmentos.  \n",
        "- **Baselines y metodología (10 pts)**: definición de referencia simple y por qué.  \n",
        "- **Modelado (20 pts)**: al menos **2 enfoques** comparados, justificación.  \n",
        "- **Evaluación (15 pts)**: métricas adecuadas, validación (temporal cuando aplique), error analysis.  \n",
        "- **Reproducibilidad (5 pts)**: semillas, funciones, estructura clara.  \n",
        "- **Conclusiones & ética (10 pts)**: hallazgos accionables y reflexiones de privacidad/sesgo.\n",
        "\n",
        "---\n"
      ]
    },
    {
      "cell_type": "markdown",
      "id": "e7b975eb",
      "metadata": {
        "id": "e7b975eb"
      },
      "source": [
        "\n",
        "## 0. Preparación del entorno (ejecutar una vez)\n"
      ]
    },
    {
      "cell_type": "code",
      "source": [
        "# Clonar tu repositorio\n",
        "!git clone https://github.com/brojas7/AnaliticaHistorialYoutube.git\n",
        "\n",
        "# Ir al directorio del proyecto\n",
        "%cd AnaliticaHistorialYoutube\n",
        "\n",
        "# TODO: Ajusta versiones si lo necesitas. Evita dependencias innecesarias.\n",
        "!pip -q install pandas numpy matplotlib scikit-learn textblob python-dateutil tqdm dateparser"
      ],
      "metadata": {
        "id": "LFe1U4XL8UJA",
        "outputId": "c6de70ca-60e2-47c9-ad74-66305bd20348",
        "colab": {
          "base_uri": "https://localhost:8080/"
        }
      },
      "id": "LFe1U4XL8UJA",
      "execution_count": 1,
      "outputs": [
        {
          "output_type": "stream",
          "name": "stdout",
          "text": [
            "Cloning into 'AnaliticaHistorialYoutube'...\n",
            "remote: Enumerating objects: 26, done.\u001b[K\n",
            "remote: Counting objects: 100% (26/26), done.\u001b[K\n",
            "remote: Compressing objects: 100% (19/19), done.\u001b[K\n",
            "remote: Total 26 (delta 8), reused 17 (delta 3), pack-reused 0 (from 0)\u001b[K\n",
            "Receiving objects: 100% (26/26), 2.34 MiB | 4.25 MiB/s, done.\n",
            "Resolving deltas: 100% (8/8), done.\n",
            "/content/AnaliticaHistorialYoutube\n",
            "\u001b[2K   \u001b[90m━━━━━━━━━━━━━━━━━━━━━━━━━━━━━━━━━━━━━━━━\u001b[0m \u001b[32m315.5/315.5 kB\u001b[0m \u001b[31m8.0 MB/s\u001b[0m eta \u001b[36m0:00:00\u001b[0m\n",
            "\u001b[?25h"
          ]
        }
      ]
    },
    {
      "cell_type": "code",
      "execution_count": 2,
      "id": "54899c40",
      "metadata": {
        "id": "54899c40",
        "outputId": "ecf5f66f-441a-4858-c255-d16d25431de8",
        "colab": {
          "base_uri": "https://localhost:8080/"
        }
      },
      "outputs": [
        {
          "output_type": "stream",
          "name": "stdout",
          "text": [
            "Entorno listo. Versión de pandas: 2.2.2\n"
          ]
        }
      ],
      "source": [
        "# Imports base y configuración\n",
        "import os, json, math, random, itertools, collections, gzip, re, string, time, zipfile, io\n",
        "from datetime import datetime, timedelta\n",
        "from dateutil import parser as dateparser\n",
        "import numpy as np\n",
        "import pandas as pd\n",
        "import matplotlib.pyplot as plt\n",
        "\n",
        "from sklearn.model_selection import train_test_split, TimeSeriesSplit\n",
        "from sklearn.metrics import (\n",
        "    accuracy_score, precision_score, recall_score, f1_score, roc_auc_score,\n",
        "    confusion_matrix, mean_absolute_error, mean_squared_error\n",
        ")\n",
        "\n",
        "import sys\n",
        "sys.path.append('/content/AnaliticaHistorialYoutube/src')\n",
        "\n",
        "from youtube_utils import load_watch_history, anonymize_df, sessionize\n",
        "\n",
        "# Reproducibilidad\n",
        "SEED = 42\n",
        "random.seed(SEED)\n",
        "np.random.seed(SEED)\n",
        "\n",
        "pd.set_option(\"display.max_columns\", 120)\n",
        "pd.set_option(\"display.max_rows\", 200)\n",
        "\n",
        "print(\"Entorno listo. Versión de pandas:\", pd.__version__)\n"
      ]
    },
    {
      "cell_type": "markdown",
      "id": "13d2a739",
      "metadata": {
        "id": "13d2a739"
      },
      "source": [
        "\n",
        "## 1. Anexo de Privacidad y Origen de Datos (obligatorio)\n",
        "**TODO:** Explicar:\n",
        "- Fuente de datos (Google Takeout, exportación manual, datos de tercero con consentimiento, etc.).  \n",
        "- Estrategia de **anonimización** (por ejemplo: hashing de IDs/URLs, truncado de timestamps, agrupación por hora/día).  \n",
        "- Contenido eliminado o agregado (p. ej., datos sintéticos para completar campos).  \n",
        "- Limitaciones y riesgos residuales.\n"
      ]
    },
    {
      "cell_type": "markdown",
      "id": "191b4ac5",
      "metadata": {
        "id": "191b4ac5"
      },
      "source": [
        "\n",
        "## 2. Selección de Proyecto\n",
        "**Marca con una X**\n",
        "\n",
        "- [ ] **Proyecto 1 — Recomendador YouTube & Burbuja Algorítmica**  \n",
        "- [ ] **Proyecto 2 — Detección de Doomscrolling (clasificación temporal)**\n"
      ]
    },
    {
      "cell_type": "markdown",
      "id": "b85beb5a",
      "metadata": {
        "id": "b85beb5a"
      },
      "source": [
        "\n",
        "## 3. Utilidades comunes para YouTube (ingesta y parsing)\n",
        "\n",
        "Para **Proyecto 1** y **Proyecto 2** puedes usar datos de **Google Takeout**:  \n",
        "- `watch-history.json` (o `watch-history.html` en exportaciones antiguas)  \n",
        "- `search-history.json` (opcional)  \n",
        "- `likes.csv` / `subscriptions.csv` (según disponibilidad)\n",
        "\n",
        "> **Nota:** Los formatos de Takeout pueden cambiar con el tiempo. Ajusta el parser según tu exportación.\n"
      ]
    },
    {
      "cell_type": "markdown",
      "source": [
        "\n",
        "# **Limpieza, Enriquecimiento y Transformación del dataset**\n"
      ],
      "metadata": {
        "id": "HWdMlR62MV5L"
      },
      "id": "HWdMlR62MV5L"
    },
    {
      "cell_type": "code",
      "source": [
        "# Ejemplo de uso\n",
        "df_search = load_watch_history('data/historial-de-búsqueda.json')\n",
        "df_watch = load_watch_history('data/historial-de-reproducciones.json')\n",
        "df_suscipciones = pd.read_csv('data/subscriptions.csv')\n",
        "\n",
        "#df = anonymize_df(df)\n",
        "#df = sessionize(df)\n",
        "print(df_search.shape)\n",
        "print(df_watch.shape)\n",
        "print(\"Eventos:\", len(df_watch), \"Rango:\", df_watch['timestamp'].min(), \"->\", df_watch['timestamp'].max())"
      ],
      "metadata": {
        "id": "5r5EmCD1_lai",
        "outputId": "851ff98a-0bc2-471d-88a2-f143e39d5d0f",
        "colab": {
          "base_uri": "https://localhost:8080/"
        }
      },
      "id": "5r5EmCD1_lai",
      "execution_count": 7,
      "outputs": [
        {
          "output_type": "stream",
          "name": "stdout",
          "text": [
            "                          timestamp                      title channel  \\\n",
            "0  2018-04-14 03:50:32.842000+00:00           Buscaste bella c    None   \n",
            "1  2018-04-14 03:50:35.809000+00:00          Buscaste bella ci    None   \n",
            "2  2018-04-14 03:50:38.384000+00:00         Buscaste bella cio    None   \n",
            "3  2018-04-14 03:50:41.624000+00:00        Buscaste bella cio     None   \n",
            "4  2018-04-14 16:27:00.660000+00:00  Buscaste sobredosis romeo    None   \n",
            "\n",
            "  channel_id video_id                                                url  \n",
            "0       None     None  https://www.youtube.com/results?search_query=b...  \n",
            "1       None     None  https://www.youtube.com/results?search_query=b...  \n",
            "2       None     None  https://www.youtube.com/results?search_query=b...  \n",
            "3       None     None  https://www.youtube.com/results?search_query=b...  \n",
            "4       None     None  https://www.youtube.com/results?search_query=s...  \n",
            "                          timestamp  \\\n",
            "0  2018-02-22 02:05:35.427000+00:00   \n",
            "1  2018-02-22 03:49:54.096000+00:00   \n",
            "2  2018-02-22 05:27:06.367000+00:00   \n",
            "3  2018-02-22 06:25:57.574000+00:00   \n",
            "4  2018-02-22 06:26:38.438000+00:00   \n",
            "\n",
            "                                               title  \\\n",
            "0  Has visto La canción más hermosa en piano fáci...   \n",
            "1  Has visto Ed Sheeran - Perfect - EASY Piano Tu...   \n",
            "2  Has visto How I proposed: fairytale story with...   \n",
            "3  Has visto https://www.youtube.com/watch?v=l8da...   \n",
            "4  Has visto TOP 5 BROMAS - Bromas para hacer a t...   \n",
            "\n",
            "                             channel channel_id     video_id  \\\n",
            "0  Paula Yessenia Barragan Izquierdo       None  ro1rC9dL5EQ   \n",
            "1                       Peter PlutaX       None  p1WCR7vNcIw   \n",
            "2                   bigchewypretzels       None  Srw9gXDa24g   \n",
            "3                               None       None  l8dasJTQdw8   \n",
            "4               BROMAS Y MÁS TVOAQUI       None  Q4UilByqMTc   \n",
            "\n",
            "                                           url  \n",
            "0  https://www.youtube.com/watch?v=ro1rC9dL5EQ  \n",
            "1  https://www.youtube.com/watch?v=p1WCR7vNcIw  \n",
            "2  https://www.youtube.com/watch?v=Srw9gXDa24g  \n",
            "3  https://www.youtube.com/watch?v=l8dasJTQdw8  \n",
            "4  https://www.youtube.com/watch?v=Q4UilByqMTc  \n",
            "(12090, 6)\n",
            "(36842, 6)\n",
            "Eventos: 36842 Rango: 2018-02-22 02:05:35.427000+00:00 -> 2025-10-18 01:02:57.606000+00:00\n"
          ]
        }
      ]
    },
    {
      "cell_type": "code",
      "source": [
        "# Copia base\n",
        "df_watch_clean = df_watch.copy()\n",
        "\n",
        "# Limpieza del título (remover \"Has visto\")\n",
        "df_watch_clean['video_title'] = df_watch_clean['title'].str.replace(r'^Has visto\\s+', '', regex=True)\n",
        "\n",
        "# Convertir timestamps\n",
        "df_watch_clean['watched_at'] = pd.to_datetime(df_watch_clean['timestamp'], utc=True)\n",
        "\n",
        "# Variables derivadas\n",
        "df_watch_clean['weekday'] = df_watch_clean['watched_at'].dt.day_name()\n",
        "df_watch_clean['hour'] = df_watch_clean['watched_at'].dt.hour\n",
        "df_watch_clean['hour_group'] = pd.cut(df_watch_clean['hour'],\n",
        "                                      bins=[-1,6,12,18,24],\n",
        "                                      labels=['madrugada','mañana','tarde','noche'])"
      ],
      "metadata": {
        "id": "TmaXN-S2RwP8"
      },
      "id": "TmaXN-S2RwP8",
      "execution_count": 15,
      "outputs": []
    },
    {
      "cell_type": "code",
      "source": [
        "df_suscripciones_clean = df_suscipciones.rename(columns={\n",
        "    \"Título del canal\": \"channel_title\",\n",
        "    \"URL del canal\": \"channel_url\",\n",
        "    \"ID del canal\": \"channel_id\"\n",
        "})"
      ],
      "metadata": {
        "id": "tL-L1G-vSoOl"
      },
      "id": "tL-L1G-vSoOl",
      "execution_count": 17,
      "outputs": []
    },
    {
      "cell_type": "code",
      "source": [
        "df_search_clean = df_search.copy()\n",
        "df_search_clean['timestamp'] = pd.to_datetime(df_search_clean['timestamp'], utc=True)\n",
        "df_search_clean['search_terms'] = df_search_clean['title'].str.replace('Buscaste', '').str.strip()"
      ],
      "metadata": {
        "id": "Vdpabqw5SxFN"
      },
      "id": "Vdpabqw5SxFN",
      "execution_count": 19,
      "outputs": []
    },
    {
      "cell_type": "markdown",
      "source": [
        "Enlace entre vistas y suscripciones"
      ],
      "metadata": {
        "id": "CL8P_i5hT457"
      },
      "id": "CL8P_i5hT457"
    },
    {
      "cell_type": "code",
      "source": [
        "# Renombramos la columna 'channel' en el historial para igualarla con suscripciones\n",
        "df_watch_clean = df_watch_clean.rename(columns={'channel': 'channel_title'})\n",
        "\n",
        "df_main = df_watch_clean.merge(\n",
        "    df_suscripciones_clean[['channel_title', 'channel_id']],\n",
        "    on='channel_title',\n",
        "    how='left',\n",
        "    indicator=True\n",
        ")\n",
        "\n",
        "df_main['is_subscribed'] = (df_main['_merge'] == 'both').astype(int)\n",
        "df_main.drop(columns=['_merge'], inplace=True)"
      ],
      "metadata": {
        "id": "22JiJ2uNSxKL"
      },
      "id": "22JiJ2uNSxKL",
      "execution_count": 26,
      "outputs": []
    },
    {
      "cell_type": "markdown",
      "source": [
        "3️Señales de interacción (para matriz usuario–contenido)"
      ],
      "metadata": {
        "id": "IyL7e0tOT7q5"
      },
      "id": "IyL7e0tOT7q5"
    },
    {
      "cell_type": "code",
      "source": [
        "df_main['interaction_score'] = 1.0\n",
        "df_main.loc[df_main['is_subscribed'] == 1, 'interaction_score'] += 0.5"
      ],
      "metadata": {
        "id": "jwkzhrJuTr-G"
      },
      "id": "jwkzhrJuTr-G",
      "execution_count": 27,
      "outputs": []
    },
    {
      "cell_type": "code",
      "source": [
        "df_main.shape"
      ],
      "metadata": {
        "colab": {
          "base_uri": "https://localhost:8080/"
        },
        "id": "mkrqAyUpSxPS",
        "outputId": "d310683d-2afc-4916-c1b6-9e196a3031eb"
      },
      "id": "mkrqAyUpSxPS",
      "execution_count": 28,
      "outputs": [
        {
          "output_type": "execute_result",
          "data": {
            "text/plain": [
              "(36842, 14)"
            ]
          },
          "metadata": {},
          "execution_count": 28
        }
      ]
    },
    {
      "cell_type": "code",
      "source": [
        "df_main.head()"
      ],
      "metadata": {
        "id": "pKxXpv5OUTJ9",
        "outputId": "a9ebffa0-84f8-49a8-de38-11e703725e65",
        "colab": {
          "base_uri": "https://localhost:8080/",
          "height": 348
        }
      },
      "id": "pKxXpv5OUTJ9",
      "execution_count": 29,
      "outputs": [
        {
          "output_type": "execute_result",
          "data": {
            "text/plain": [
              "                          timestamp  \\\n",
              "0  2018-02-22 02:05:35.427000+00:00   \n",
              "1  2018-02-22 03:49:54.096000+00:00   \n",
              "2  2018-02-22 05:27:06.367000+00:00   \n",
              "3  2018-02-22 06:25:57.574000+00:00   \n",
              "4  2018-02-22 06:26:38.438000+00:00   \n",
              "\n",
              "                                               title  \\\n",
              "0  Has visto La canción más hermosa en piano fáci...   \n",
              "1  Has visto Ed Sheeran - Perfect - EASY Piano Tu...   \n",
              "2  Has visto How I proposed: fairytale story with...   \n",
              "3  Has visto https://www.youtube.com/watch?v=l8da...   \n",
              "4  Has visto TOP 5 BROMAS - Bromas para hacer a t...   \n",
              "\n",
              "                       channel_title channel_id_x     video_id  \\\n",
              "0  Paula Yessenia Barragan Izquierdo         None  ro1rC9dL5EQ   \n",
              "1                       Peter PlutaX         None  p1WCR7vNcIw   \n",
              "2                   bigchewypretzels         None  Srw9gXDa24g   \n",
              "3                               None         None  l8dasJTQdw8   \n",
              "4               BROMAS Y MÁS TVOAQUI         None  Q4UilByqMTc   \n",
              "\n",
              "                                           url  \\\n",
              "0  https://www.youtube.com/watch?v=ro1rC9dL5EQ   \n",
              "1  https://www.youtube.com/watch?v=p1WCR7vNcIw   \n",
              "2  https://www.youtube.com/watch?v=Srw9gXDa24g   \n",
              "3  https://www.youtube.com/watch?v=l8dasJTQdw8   \n",
              "4  https://www.youtube.com/watch?v=Q4UilByqMTc   \n",
              "\n",
              "                                         video_title  \\\n",
              "0  La canción más hermosa en piano fácil de aprender   \n",
              "1  Ed Sheeran - Perfect - EASY Piano Tutorial by ...   \n",
              "2  How I proposed: fairytale story with puzzles a...   \n",
              "3        https://www.youtube.com/watch?v=l8dasJTQdw8   \n",
              "4  TOP 5 BROMAS - Bromas para hacer a tus amigos,...   \n",
              "\n",
              "                        watched_at   weekday  hour hour_group channel_id_y  \\\n",
              "0 2018-02-22 02:05:35.427000+00:00  Thursday     2  madrugada          NaN   \n",
              "1 2018-02-22 03:49:54.096000+00:00  Thursday     3  madrugada          NaN   \n",
              "2 2018-02-22 05:27:06.367000+00:00  Thursday     5  madrugada          NaN   \n",
              "3 2018-02-22 06:25:57.574000+00:00  Thursday     6  madrugada          NaN   \n",
              "4 2018-02-22 06:26:38.438000+00:00  Thursday     6  madrugada          NaN   \n",
              "\n",
              "   is_subscribed  interaction_score  \n",
              "0              0                1.0  \n",
              "1              0                1.0  \n",
              "2              0                1.0  \n",
              "3              0                1.0  \n",
              "4              0                1.0  "
            ],
            "text/html": [
              "\n",
              "  <div id=\"df-01612bd4-1183-4fe9-9728-d4bb0003c279\" class=\"colab-df-container\">\n",
              "    <div>\n",
              "<style scoped>\n",
              "    .dataframe tbody tr th:only-of-type {\n",
              "        vertical-align: middle;\n",
              "    }\n",
              "\n",
              "    .dataframe tbody tr th {\n",
              "        vertical-align: top;\n",
              "    }\n",
              "\n",
              "    .dataframe thead th {\n",
              "        text-align: right;\n",
              "    }\n",
              "</style>\n",
              "<table border=\"1\" class=\"dataframe\">\n",
              "  <thead>\n",
              "    <tr style=\"text-align: right;\">\n",
              "      <th></th>\n",
              "      <th>timestamp</th>\n",
              "      <th>title</th>\n",
              "      <th>channel_title</th>\n",
              "      <th>channel_id_x</th>\n",
              "      <th>video_id</th>\n",
              "      <th>url</th>\n",
              "      <th>video_title</th>\n",
              "      <th>watched_at</th>\n",
              "      <th>weekday</th>\n",
              "      <th>hour</th>\n",
              "      <th>hour_group</th>\n",
              "      <th>channel_id_y</th>\n",
              "      <th>is_subscribed</th>\n",
              "      <th>interaction_score</th>\n",
              "    </tr>\n",
              "  </thead>\n",
              "  <tbody>\n",
              "    <tr>\n",
              "      <th>0</th>\n",
              "      <td>2018-02-22 02:05:35.427000+00:00</td>\n",
              "      <td>Has visto La canción más hermosa en piano fáci...</td>\n",
              "      <td>Paula Yessenia Barragan Izquierdo</td>\n",
              "      <td>None</td>\n",
              "      <td>ro1rC9dL5EQ</td>\n",
              "      <td>https://www.youtube.com/watch?v=ro1rC9dL5EQ</td>\n",
              "      <td>La canción más hermosa en piano fácil de aprender</td>\n",
              "      <td>2018-02-22 02:05:35.427000+00:00</td>\n",
              "      <td>Thursday</td>\n",
              "      <td>2</td>\n",
              "      <td>madrugada</td>\n",
              "      <td>NaN</td>\n",
              "      <td>0</td>\n",
              "      <td>1.0</td>\n",
              "    </tr>\n",
              "    <tr>\n",
              "      <th>1</th>\n",
              "      <td>2018-02-22 03:49:54.096000+00:00</td>\n",
              "      <td>Has visto Ed Sheeran - Perfect - EASY Piano Tu...</td>\n",
              "      <td>Peter PlutaX</td>\n",
              "      <td>None</td>\n",
              "      <td>p1WCR7vNcIw</td>\n",
              "      <td>https://www.youtube.com/watch?v=p1WCR7vNcIw</td>\n",
              "      <td>Ed Sheeran - Perfect - EASY Piano Tutorial by ...</td>\n",
              "      <td>2018-02-22 03:49:54.096000+00:00</td>\n",
              "      <td>Thursday</td>\n",
              "      <td>3</td>\n",
              "      <td>madrugada</td>\n",
              "      <td>NaN</td>\n",
              "      <td>0</td>\n",
              "      <td>1.0</td>\n",
              "    </tr>\n",
              "    <tr>\n",
              "      <th>2</th>\n",
              "      <td>2018-02-22 05:27:06.367000+00:00</td>\n",
              "      <td>Has visto How I proposed: fairytale story with...</td>\n",
              "      <td>bigchewypretzels</td>\n",
              "      <td>None</td>\n",
              "      <td>Srw9gXDa24g</td>\n",
              "      <td>https://www.youtube.com/watch?v=Srw9gXDa24g</td>\n",
              "      <td>How I proposed: fairytale story with puzzles a...</td>\n",
              "      <td>2018-02-22 05:27:06.367000+00:00</td>\n",
              "      <td>Thursday</td>\n",
              "      <td>5</td>\n",
              "      <td>madrugada</td>\n",
              "      <td>NaN</td>\n",
              "      <td>0</td>\n",
              "      <td>1.0</td>\n",
              "    </tr>\n",
              "    <tr>\n",
              "      <th>3</th>\n",
              "      <td>2018-02-22 06:25:57.574000+00:00</td>\n",
              "      <td>Has visto https://www.youtube.com/watch?v=l8da...</td>\n",
              "      <td>None</td>\n",
              "      <td>None</td>\n",
              "      <td>l8dasJTQdw8</td>\n",
              "      <td>https://www.youtube.com/watch?v=l8dasJTQdw8</td>\n",
              "      <td>https://www.youtube.com/watch?v=l8dasJTQdw8</td>\n",
              "      <td>2018-02-22 06:25:57.574000+00:00</td>\n",
              "      <td>Thursday</td>\n",
              "      <td>6</td>\n",
              "      <td>madrugada</td>\n",
              "      <td>NaN</td>\n",
              "      <td>0</td>\n",
              "      <td>1.0</td>\n",
              "    </tr>\n",
              "    <tr>\n",
              "      <th>4</th>\n",
              "      <td>2018-02-22 06:26:38.438000+00:00</td>\n",
              "      <td>Has visto TOP 5 BROMAS - Bromas para hacer a t...</td>\n",
              "      <td>BROMAS Y MÁS TVOAQUI</td>\n",
              "      <td>None</td>\n",
              "      <td>Q4UilByqMTc</td>\n",
              "      <td>https://www.youtube.com/watch?v=Q4UilByqMTc</td>\n",
              "      <td>TOP 5 BROMAS - Bromas para hacer a tus amigos,...</td>\n",
              "      <td>2018-02-22 06:26:38.438000+00:00</td>\n",
              "      <td>Thursday</td>\n",
              "      <td>6</td>\n",
              "      <td>madrugada</td>\n",
              "      <td>NaN</td>\n",
              "      <td>0</td>\n",
              "      <td>1.0</td>\n",
              "    </tr>\n",
              "  </tbody>\n",
              "</table>\n",
              "</div>\n",
              "    <div class=\"colab-df-buttons\">\n",
              "\n",
              "  <div class=\"colab-df-container\">\n",
              "    <button class=\"colab-df-convert\" onclick=\"convertToInteractive('df-01612bd4-1183-4fe9-9728-d4bb0003c279')\"\n",
              "            title=\"Convert this dataframe to an interactive table.\"\n",
              "            style=\"display:none;\">\n",
              "\n",
              "  <svg xmlns=\"http://www.w3.org/2000/svg\" height=\"24px\" viewBox=\"0 -960 960 960\">\n",
              "    <path d=\"M120-120v-720h720v720H120Zm60-500h600v-160H180v160Zm220 220h160v-160H400v160Zm0 220h160v-160H400v160ZM180-400h160v-160H180v160Zm440 0h160v-160H620v160ZM180-180h160v-160H180v160Zm440 0h160v-160H620v160Z\"/>\n",
              "  </svg>\n",
              "    </button>\n",
              "\n",
              "  <style>\n",
              "    .colab-df-container {\n",
              "      display:flex;\n",
              "      gap: 12px;\n",
              "    }\n",
              "\n",
              "    .colab-df-convert {\n",
              "      background-color: #E8F0FE;\n",
              "      border: none;\n",
              "      border-radius: 50%;\n",
              "      cursor: pointer;\n",
              "      display: none;\n",
              "      fill: #1967D2;\n",
              "      height: 32px;\n",
              "      padding: 0 0 0 0;\n",
              "      width: 32px;\n",
              "    }\n",
              "\n",
              "    .colab-df-convert:hover {\n",
              "      background-color: #E2EBFA;\n",
              "      box-shadow: 0px 1px 2px rgba(60, 64, 67, 0.3), 0px 1px 3px 1px rgba(60, 64, 67, 0.15);\n",
              "      fill: #174EA6;\n",
              "    }\n",
              "\n",
              "    .colab-df-buttons div {\n",
              "      margin-bottom: 4px;\n",
              "    }\n",
              "\n",
              "    [theme=dark] .colab-df-convert {\n",
              "      background-color: #3B4455;\n",
              "      fill: #D2E3FC;\n",
              "    }\n",
              "\n",
              "    [theme=dark] .colab-df-convert:hover {\n",
              "      background-color: #434B5C;\n",
              "      box-shadow: 0px 1px 3px 1px rgba(0, 0, 0, 0.15);\n",
              "      filter: drop-shadow(0px 1px 2px rgba(0, 0, 0, 0.3));\n",
              "      fill: #FFFFFF;\n",
              "    }\n",
              "  </style>\n",
              "\n",
              "    <script>\n",
              "      const buttonEl =\n",
              "        document.querySelector('#df-01612bd4-1183-4fe9-9728-d4bb0003c279 button.colab-df-convert');\n",
              "      buttonEl.style.display =\n",
              "        google.colab.kernel.accessAllowed ? 'block' : 'none';\n",
              "\n",
              "      async function convertToInteractive(key) {\n",
              "        const element = document.querySelector('#df-01612bd4-1183-4fe9-9728-d4bb0003c279');\n",
              "        const dataTable =\n",
              "          await google.colab.kernel.invokeFunction('convertToInteractive',\n",
              "                                                    [key], {});\n",
              "        if (!dataTable) return;\n",
              "\n",
              "        const docLinkHtml = 'Like what you see? Visit the ' +\n",
              "          '<a target=\"_blank\" href=https://colab.research.google.com/notebooks/data_table.ipynb>data table notebook</a>'\n",
              "          + ' to learn more about interactive tables.';\n",
              "        element.innerHTML = '';\n",
              "        dataTable['output_type'] = 'display_data';\n",
              "        await google.colab.output.renderOutput(dataTable, element);\n",
              "        const docLink = document.createElement('div');\n",
              "        docLink.innerHTML = docLinkHtml;\n",
              "        element.appendChild(docLink);\n",
              "      }\n",
              "    </script>\n",
              "  </div>\n",
              "\n",
              "\n",
              "    <div id=\"df-f1e627ed-6a85-489d-b6c8-322f985f3b15\">\n",
              "      <button class=\"colab-df-quickchart\" onclick=\"quickchart('df-f1e627ed-6a85-489d-b6c8-322f985f3b15')\"\n",
              "                title=\"Suggest charts\"\n",
              "                style=\"display:none;\">\n",
              "\n",
              "<svg xmlns=\"http://www.w3.org/2000/svg\" height=\"24px\"viewBox=\"0 0 24 24\"\n",
              "     width=\"24px\">\n",
              "    <g>\n",
              "        <path d=\"M19 3H5c-1.1 0-2 .9-2 2v14c0 1.1.9 2 2 2h14c1.1 0 2-.9 2-2V5c0-1.1-.9-2-2-2zM9 17H7v-7h2v7zm4 0h-2V7h2v10zm4 0h-2v-4h2v4z\"/>\n",
              "    </g>\n",
              "</svg>\n",
              "      </button>\n",
              "\n",
              "<style>\n",
              "  .colab-df-quickchart {\n",
              "      --bg-color: #E8F0FE;\n",
              "      --fill-color: #1967D2;\n",
              "      --hover-bg-color: #E2EBFA;\n",
              "      --hover-fill-color: #174EA6;\n",
              "      --disabled-fill-color: #AAA;\n",
              "      --disabled-bg-color: #DDD;\n",
              "  }\n",
              "\n",
              "  [theme=dark] .colab-df-quickchart {\n",
              "      --bg-color: #3B4455;\n",
              "      --fill-color: #D2E3FC;\n",
              "      --hover-bg-color: #434B5C;\n",
              "      --hover-fill-color: #FFFFFF;\n",
              "      --disabled-bg-color: #3B4455;\n",
              "      --disabled-fill-color: #666;\n",
              "  }\n",
              "\n",
              "  .colab-df-quickchart {\n",
              "    background-color: var(--bg-color);\n",
              "    border: none;\n",
              "    border-radius: 50%;\n",
              "    cursor: pointer;\n",
              "    display: none;\n",
              "    fill: var(--fill-color);\n",
              "    height: 32px;\n",
              "    padding: 0;\n",
              "    width: 32px;\n",
              "  }\n",
              "\n",
              "  .colab-df-quickchart:hover {\n",
              "    background-color: var(--hover-bg-color);\n",
              "    box-shadow: 0 1px 2px rgba(60, 64, 67, 0.3), 0 1px 3px 1px rgba(60, 64, 67, 0.15);\n",
              "    fill: var(--button-hover-fill-color);\n",
              "  }\n",
              "\n",
              "  .colab-df-quickchart-complete:disabled,\n",
              "  .colab-df-quickchart-complete:disabled:hover {\n",
              "    background-color: var(--disabled-bg-color);\n",
              "    fill: var(--disabled-fill-color);\n",
              "    box-shadow: none;\n",
              "  }\n",
              "\n",
              "  .colab-df-spinner {\n",
              "    border: 2px solid var(--fill-color);\n",
              "    border-color: transparent;\n",
              "    border-bottom-color: var(--fill-color);\n",
              "    animation:\n",
              "      spin 1s steps(1) infinite;\n",
              "  }\n",
              "\n",
              "  @keyframes spin {\n",
              "    0% {\n",
              "      border-color: transparent;\n",
              "      border-bottom-color: var(--fill-color);\n",
              "      border-left-color: var(--fill-color);\n",
              "    }\n",
              "    20% {\n",
              "      border-color: transparent;\n",
              "      border-left-color: var(--fill-color);\n",
              "      border-top-color: var(--fill-color);\n",
              "    }\n",
              "    30% {\n",
              "      border-color: transparent;\n",
              "      border-left-color: var(--fill-color);\n",
              "      border-top-color: var(--fill-color);\n",
              "      border-right-color: var(--fill-color);\n",
              "    }\n",
              "    40% {\n",
              "      border-color: transparent;\n",
              "      border-right-color: var(--fill-color);\n",
              "      border-top-color: var(--fill-color);\n",
              "    }\n",
              "    60% {\n",
              "      border-color: transparent;\n",
              "      border-right-color: var(--fill-color);\n",
              "    }\n",
              "    80% {\n",
              "      border-color: transparent;\n",
              "      border-right-color: var(--fill-color);\n",
              "      border-bottom-color: var(--fill-color);\n",
              "    }\n",
              "    90% {\n",
              "      border-color: transparent;\n",
              "      border-bottom-color: var(--fill-color);\n",
              "    }\n",
              "  }\n",
              "</style>\n",
              "\n",
              "      <script>\n",
              "        async function quickchart(key) {\n",
              "          const quickchartButtonEl =\n",
              "            document.querySelector('#' + key + ' button');\n",
              "          quickchartButtonEl.disabled = true;  // To prevent multiple clicks.\n",
              "          quickchartButtonEl.classList.add('colab-df-spinner');\n",
              "          try {\n",
              "            const charts = await google.colab.kernel.invokeFunction(\n",
              "                'suggestCharts', [key], {});\n",
              "          } catch (error) {\n",
              "            console.error('Error during call to suggestCharts:', error);\n",
              "          }\n",
              "          quickchartButtonEl.classList.remove('colab-df-spinner');\n",
              "          quickchartButtonEl.classList.add('colab-df-quickchart-complete');\n",
              "        }\n",
              "        (() => {\n",
              "          let quickchartButtonEl =\n",
              "            document.querySelector('#df-f1e627ed-6a85-489d-b6c8-322f985f3b15 button');\n",
              "          quickchartButtonEl.style.display =\n",
              "            google.colab.kernel.accessAllowed ? 'block' : 'none';\n",
              "        })();\n",
              "      </script>\n",
              "    </div>\n",
              "\n",
              "    </div>\n",
              "  </div>\n"
            ],
            "application/vnd.google.colaboratory.intrinsic+json": {
              "type": "dataframe",
              "variable_name": "df_main",
              "repr_error": "Out of range float values are not JSON compliant: nan"
            }
          },
          "metadata": {},
          "execution_count": 29
        }
      ]
    },
    {
      "cell_type": "markdown",
      "id": "1d53a88c",
      "metadata": {
        "id": "1d53a88c"
      },
      "source": [
        "\n",
        "# **Proyecto 1 — Tu Huella YouTube: Recomendador & Burbuja Algorítmica**\n",
        "\n",
        "### Objetivo\n",
        "1) Construir **dos recomendadores** con tus datos de visualización:  \n",
        "   - **Baseline de popularidad** (o popularidad por canal/categoría).  \n",
        "   - **Modelo basado en contenido** (TF‑IDF/embeddings por título/canal) **o** **colaborativo** (si tienes interacciones de múltiples usuarios/fuentes).  \n",
        "2) Medir **Precision@k, Recall@k y Coverage** (y *diversidad*) en un esquema **offline**.  \n",
        "3) Analizar posibles **sesgos o “burbujas”** (temas/canales dominantes por hora, día, duración).  \n",
        "\n",
        "### Requisitos mínimos\n",
        "- **EDA**: distribución de vistas por canal, hora del día, día de semana, duración de sesiones, *top‑k* temas.  \n",
        "- **Ingeniería de features** (ej.: tokenización títulos, lematización opcional, normalización de canales).  \n",
        "- **Comparación de al menos 2 enfoques** de recomendación.  \n",
        "- **Evaluación offline** con *train/test split temporal*.  \n",
        "- **Análisis de errores** y discusión de sesgos/limitaciones.\n",
        "\n",
        "---\n",
        "\n",
        "## 4. Charter del Proyecto 1 (llenar)\n",
        "**TODO:** Define el propósito, preguntas clave y utilidad (qué decisiones permitirán tus hallazgos).\n"
      ]
    },
    {
      "cell_type": "markdown",
      "id": "38774f14",
      "metadata": {
        "id": "38774f14"
      },
      "source": [
        "\n",
        "## 5. Carga de datos (Proyecto 1)\n",
        "**TODO:** Sube tu `watch-history.json` (anonimizado si aplica) a `data/` y cárgalo.\n"
      ]
    },
    {
      "cell_type": "markdown",
      "id": "7e32a093",
      "metadata": {
        "id": "7e32a093"
      },
      "source": [
        "\n",
        "## 6. EDA (Proyecto 1)\n",
        "**TODO:** Explora sesgos por canal/tema/horario. Muestra tablas y gráficos clave.\n"
      ]
    },
    {
      "cell_type": "code",
      "execution_count": null,
      "id": "1c6b0474",
      "metadata": {
        "id": "1c6b0474",
        "outputId": "5acd93bd-049d-4844-dc45-43c0d5738467",
        "colab": {
          "base_uri": "https://localhost:8080/"
        }
      },
      "outputs": [
        {
          "output_type": "stream",
          "name": "stdout",
          "text": [
            "channel\n",
            "Respuesta: Ninguna de las anteriores    1\n",
            "Name: count, dtype: int64\n",
            "hour\n",
            "0     589\n",
            "1     607\n",
            "2     561\n",
            "3     589\n",
            "4     486\n",
            "5     311\n",
            "6     186\n",
            "7      99\n",
            "8      41\n",
            "9      47\n",
            "10     40\n",
            "11     78\n",
            "12    354\n",
            "13    738\n",
            "14    671\n",
            "15    717\n",
            "16    648\n",
            "17    719\n",
            "18    988\n",
            "19    779\n",
            "20    707\n",
            "21    668\n",
            "22    635\n",
            "23    832\n",
            "Name: count, dtype: int64\n"
          ]
        }
      ],
      "source": [
        "\n",
        "# TODO: EDA — ejemplos\n",
        "# Conteos por canal\n",
        "if 'channel' in df_watch.columns:\n",
        "    print(df_watch['channel'].value_counts().head(15))\n",
        "\n",
        "# Distribución por hora (si hay timestamps)\n",
        "df_watch['hour'] = df_watch['timestamp'].dt.hour\n",
        "print(df_watch['hour'].value_counts().sort_index())\n",
        "\n",
        "# (Agrega visualizaciones y tablas adicionales)\n"
      ]
    },
    {
      "cell_type": "markdown",
      "id": "35c69ef9",
      "metadata": {
        "id": "35c69ef9"
      },
      "source": [
        "\n",
        "## 7. Partición temporal y definición de tareas (Proyecto 1)\n",
        "**TODO:** Define ventana de entrenamiento y de evaluación para recomendación **offline**.\n"
      ]
    },
    {
      "cell_type": "code",
      "execution_count": null,
      "id": "a4c0a861",
      "metadata": {
        "id": "a4c0a861"
      },
      "outputs": [],
      "source": [
        "\n",
        "# Split temporal: por ejemplo, último 20% del tiempo como test\n",
        "cut_ts = df_watch['timestamp'].quantile(0.8)\n",
        "train = df_watch[df_watch['timestamp'] <= cut_ts].copy()\n",
        "test  = df_watch[df_watch['timestamp'] >  cut_ts].copy()\n",
        "\n",
        "print(\"train:\", train['timestamp'].min(), \"->\", train['timestamp'].max(), \"n=\", len(train))\n",
        "print(\"test :\", test['timestamp'].min(),  \"->\", test['timestamp'].max(),  \"n=\", len(test))\n"
      ]
    },
    {
      "cell_type": "markdown",
      "id": "fcf711a3",
      "metadata": {
        "id": "fcf711a3"
      },
      "source": [
        "\n",
        "## 8. Baseline de popularidad (Proyecto 1)\n",
        "Genera recomendaciones **sin personalización** como referencia.\n"
      ]
    },
    {
      "cell_type": "code",
      "execution_count": null,
      "id": "a2b18472",
      "metadata": {
        "id": "a2b18472"
      },
      "outputs": [],
      "source": [
        "\n",
        "# Top-N por popularidad (baseline)\n",
        "K = 10  # tamaño de recomendación\n",
        "top_items = train['video_id'].value_counts().head(100).index.tolist()\n",
        "\n",
        "def recommend_popularity(k=K):\n",
        "    return top_items[:k]\n",
        "\n",
        "# Conjunto de ítems verdaderos en test (lo visto en test)\n",
        "true_items = set(test['video_id'].dropna().unique().tolist())\n",
        "\n",
        "def precision_at_k(recommended, true_set):\n",
        "    if len(recommended) == 0: return 0.0\n",
        "    hit = sum(1 for x in recommended if x in true_set)\n",
        "    return hit / len(recommended)\n",
        "\n",
        "def recall_at_k(recommended, true_set):\n",
        "    if len(true_set) == 0: return 0.0\n",
        "    hit = sum(1 for x in recommended if x in true_set)\n",
        "    return hit / len(true_set)\n",
        "\n",
        "# Eval baseline\n",
        "rec = recommend_popularity(K)\n",
        "p = precision_at_k(rec, true_items)\n",
        "r = recall_at_k(rec, true_items)\n",
        "coverage = len(set(top_items)) / max(1, df_watch['video_id'].nunique())\n",
        "\n",
        "print(f\"Baseline Popularidad -> P@{K}={p:.3f}  R@{K}={r:.3f}  Cobertura={coverage:.3f}\")"
      ]
    },
    {
      "cell_type": "markdown",
      "id": "97f75a6b",
      "metadata": {
        "id": "97f75a6b"
      },
      "source": [
        "\n",
        "## 9. Recomendador basado en contenido **(ejemplo TF-IDF por título/canal)**\n",
        "**TODO:** Implementa TF‑IDF (o embeddings) y calcula similitud contenido‑a‑contenido para recomendar.\n"
      ]
    },
    {
      "cell_type": "code",
      "execution_count": null,
      "id": "23706ddb",
      "metadata": {
        "id": "23706ddb"
      },
      "outputs": [],
      "source": [
        "\n",
        "# EJEMPLO ESQUELETO (completa con TF-IDF real si lo deseas)\n",
        "# Aquí usamos una heurística mínima por canal/tokens de título para ilustrar el flujo.\n",
        "\n",
        "from collections import Counter\n",
        "\n",
        "def tokenize_title(s):\n",
        "    if pd.isna(s): return []\n",
        "    s = s.lower()\n",
        "    s = re.sub(r\"[^a-z0-9áéíóúüñ\\s]\", \" \", s)\n",
        "    tok = [t for t in s.split() if len(t) > 2]\n",
        "    return tok\n",
        "\n",
        "train = train.copy()\n",
        "train['tokens'] = train['title'].apply(tokenize_title)\n",
        "\n",
        "# \"Perfil\" de intereses por tokens (muy básico)\n",
        "profile = Counter(itertools.chain.from_iterable(train['tokens'].tolist()))\n",
        "top_terms = [t for t, _ in profile.most_common(50)]\n",
        "\n",
        "def recommend_content_based(k=10):\n",
        "    # Recomienda ítems del set de entrenamiento por coincidencia con términos del perfil\n",
        "    scores = []\n",
        "    for vid, grp in train.groupby('video_id'):\n",
        "        toks = list(itertools.chain.from_iterable(grp['tokens'].tolist()))\n",
        "        score = sum(1 for t in toks if t in top_terms)\n",
        "        scores.append((vid, score))\n",
        "    scores.sort(key=lambda x: x[1], reverse=True)\n",
        "    return [vid for vid, s in scores[:k]]\n",
        "\n",
        "rec_cb = recommend_content_based(K)\n",
        "p_cb = precision_at_k(rec_cb, true_items)\n",
        "r_cb = recall_at_k(rec_cb, true_items)\n",
        "cov_cb = len(set(train['video_id'])) / max(1, df_watch['video_id'].nunique())\n",
        "print(f\"Contenido (heurístico) -> P@{K}={p_cb:.3f}  R@{K}={r_cb:.3f}  Cobertura={cov_cb:.3f}\")\n",
        "\n",
        "# TODO: Sustituir por TF-IDF/embeddings reales y mejorar evaluación (por usuario/ventanas).\n"
      ]
    },
    {
      "cell_type": "markdown",
      "id": "e38b1533",
      "metadata": {
        "id": "e38b1533"
      },
      "source": [
        "\n",
        "## 10. Análisis de burbuja/sesgo (Proyecto 1)\n",
        "**TODO:** Mide concentración por canal/tema, horarios de consumo, diversidad de recomendaciones.\n",
        "Propón **intervenciones** para aumentar diversidad sin perder pertinencia.\n"
      ]
    },
    {
      "cell_type": "markdown",
      "id": "2fee1328",
      "metadata": {
        "id": "2fee1328"
      },
      "source": [
        "\n",
        "## 11. Conclusiones y trabajo futuro (Proyecto 1)\n",
        "**TODO:** Resume hallazgos, limitaciones y siguientes pasos.\n"
      ]
    },
    {
      "cell_type": "markdown",
      "id": "2b71cd1e",
      "metadata": {
        "id": "2b71cd1e"
      },
      "source": [
        "\n",
        "# **Proyecto 2 — Detección de “Doomscrolling” (Clasificación Temporal)**\n",
        "\n",
        "### Objetivo\n",
        "Predecir si una **sesión** de consumo (YouTube u otra plataforma) terminará en **scroll extendido** o **consumo prolongado** (> X minutos o > Y videos).\n",
        "\n",
        "### Requisitos mínimos\n",
        "- **Definición de etiqueta** (doomscroll = 1 si supera umbral de tiempo o conteo).  \n",
        "- **Sessionization** con ventana de inactividad (p. ej., 30 minutos).  \n",
        "- **Features temporales** (hora/día, ritmos, gaps), contextuales (tema/canal) y de **acumulación**.  \n",
        "- **Validación temporal** (e.g., TimeSeriesSplit) para evitar *leakage*.  \n",
        "- **Comparación de al menos 2 clasificadores** (baseline + modelo).  \n",
        "- **Métricas**: precisión, recall, F1, ROC‑AUC, matriz de confusión por segmento.  \n",
        "- **Error analysis** e importancia de variables.\n",
        "\n",
        "---\n",
        "\n",
        "## 12. Charter del Proyecto 2 (llenar)\n",
        "**TODO:** Propósito, hipótesis y utilidad (p. ej., alertas o cortes saludables de uso).\n"
      ]
    },
    {
      "cell_type": "markdown",
      "id": "8ddce208",
      "metadata": {
        "id": "8ddce208"
      },
      "source": [
        "\n",
        "## 13. Carga de datos (Proyecto 2)\n",
        "**TODO:** Reutiliza `watch-history.json` u otra fuente y genera sesiones.\n"
      ]
    },
    {
      "cell_type": "code",
      "execution_count": null,
      "id": "c8d8929a",
      "metadata": {
        "id": "c8d8929a"
      },
      "outputs": [],
      "source": [
        "\n",
        "# Ejemplo de carga y sessionization\n",
        "PATH_WATCH = \"data/watch-history.json\"  # TODO: cambia si es necesario\n",
        "df_watch = load_watch_history(PATH_WATCH)\n",
        "\n",
        "# Crea sesiones (ajusta gap si aplica)\n",
        "df_sess = sessionize(df_watch, gap_minutes=30)\n",
        "\n",
        "# Etiqueta doomscrolling: duración > umbral (estimación proxy por número de eventos)\n",
        "UMBRAL_VIDEOS = 8  # TODO: ajusta criterio (o usa tiempo real si lo tienes)\n",
        "sess_counts = df_sess.groupby('session_id').size().rename('n_events')\n",
        "df_labels = sess_counts.to_frame().assign(doom=lambda x: (x['n_events'] >= UMBRAL_VIDEOS).astype(int)).reset_index()\n",
        "\n",
        "print(df_labels['doom'].value_counts())\n",
        "df_labels.head()\n"
      ]
    },
    {
      "cell_type": "markdown",
      "id": "89362440",
      "metadata": {
        "id": "89362440"
      },
      "source": [
        "\n",
        "## 14. Features y partición temporal (Proyecto 2)\n",
        "**TODO:** Crear variables por sesión (hora de inicio, día de semana, gaps promedio, temas/canales dominantes, ritmo).  \n",
        "Usa **TimeSeriesSplit** o una corte temporal para evaluación.\n"
      ]
    },
    {
      "cell_type": "code",
      "execution_count": null,
      "id": "a7f7bbe4",
      "metadata": {
        "id": "a7f7bbe4"
      },
      "outputs": [],
      "source": [
        "\n",
        "# Construcción simple de features por sesión (extiende según tus datos)\n",
        "def build_session_features(df_watch, df_sess):\n",
        "    # Hora de inicio de la sesión, día de semana, tamaño de sesión, ritmo aproximado\n",
        "    start_ts = df_sess.groupby('session_id')['timestamp'].min().rename('start_ts')\n",
        "    end_ts   = df_sess.groupby('session_id')['timestamp'].max().rename('end_ts')\n",
        "    n_events = df_sess.groupby('session_id').size().rename('n_events')\n",
        "\n",
        "    base = pd.concat([start_ts, end_ts, n_events], axis=1).reset_index()\n",
        "    base['duration_min'] = (base['end_ts'] - base['start_ts']).dt.total_seconds() / 60.0\n",
        "    base['hour'] = base['start_ts'].dt.hour\n",
        "    base['dow'] = base['start_ts'].dt.dayofweek  # 0=Lunes\n",
        "    base['events_per_min'] = base['n_events'] / base['duration_min'].replace(0, np.nan)\n",
        "\n",
        "    # (Opcional) top canal por sesión\n",
        "    top_channel = (\n",
        "        df_sess.groupby(['session_id','channel']).size()\n",
        "        .reset_index(name='cnt')\n",
        "        .sort_values(['session_id','cnt'], ascending=[True, False])\n",
        "        .drop_duplicates('session_id')\n",
        "        .set_index('session_id')['channel']\n",
        "        .rename('top_channel')\n",
        "    )\n",
        "    base = base.merge(top_channel, left_on='session_id', right_index=True, how='left')\n",
        "\n",
        "    # Codificación simple de canal principal (dummy)\n",
        "    if 'top_channel' in base.columns:\n",
        "        dummies = pd.get_dummies(base['top_channel'], prefix='ch', dummy_na=True)\n",
        "        base = pd.concat([base.drop(columns=['top_channel']), dummies], axis=1)\n",
        "\n",
        "    return base\n",
        "\n",
        "df_feat = build_session_features(df_watch, df_sess)\n",
        "df_all = df_feat.merge(df_labels, on='session_id', how='inner')\n",
        "\n",
        "# Partición temporal (último 20% del tiempo como test)\n",
        "cut_ts = df_all['start_ts'].quantile(0.8)\n",
        "train = df_all[df_all['start_ts'] <= cut_ts].copy()\n",
        "test  = df_all[df_all['start_ts'] >  cut_ts].copy()\n",
        "\n",
        "y_train = train['doom'].values\n",
        "y_test  = test['doom'].values\n",
        "\n",
        "X_train = train.drop(columns=['doom','start_ts','end_ts'])\n",
        "X_test  = test.drop(columns=['doom','start_ts','end_ts'])\n",
        "\n",
        "print(\"Train/Test shapes:\", X_train.shape, X_test.shape)\n"
      ]
    },
    {
      "cell_type": "markdown",
      "id": "5bab5798",
      "metadata": {
        "id": "5bab5798"
      },
      "source": [
        "\n",
        "## 15. Baseline y Modelo(s) (Proyecto 2)\n",
        "**TODO:** Compara un baseline (mayoría/clasificador trivial) con al menos **un modelo** (p. ej., Árboles/GBM/RegLog).\n"
      ]
    },
    {
      "cell_type": "code",
      "execution_count": null,
      "id": "0083a6b8",
      "metadata": {
        "id": "0083a6b8"
      },
      "outputs": [],
      "source": [
        "\n",
        "# Baseline: clase mayoritaria\n",
        "from collections import Counter\n",
        "majority = Counter(y_train).most_common(1)[0][0]\n",
        "y_pred_base = np.full_like(y_test, fill_value=majority)\n",
        "print(\"Baseline (mayoría) -> acc=%.3f  prec=%.3f  rec=%.3f  f1=%.3f\" % (\n",
        "    accuracy_score(y_test, y_pred_base),\n",
        "    precision_score(y_test, y_pred_base, zero_division=0),\n",
        "    recall_score(y_test, y_pred_base, zero_division=0),\n",
        "    f1_score(y_test, y_pred_base, zero_division=0)\n",
        "))\n",
        "\n",
        "# Modelo ejemplo: Regresión Logística (puedes sustituir por otro)\n",
        "from sklearn.linear_model import LogisticRegression\n",
        "clf = LogisticRegression(max_iter=1000, random_state=SEED)\n",
        "clf.fit(X_train.fillna(0), y_train)\n",
        "y_proba = clf.predict_proba(X_test.fillna(0))[:,1]\n",
        "y_pred = (y_proba >= 0.5).astype(int)\n",
        "\n",
        "print(\"LogReg -> acc=%.3f  prec=%.3f  rec=%.3f  f1=%.3f  roc=%.3f\" % (\n",
        "    accuracy_score(y_test, y_pred),\n",
        "    precision_score(y_test, y_pred, zero_division=0),\n",
        "    recall_score(y_test, y_pred, zero_division=0),\n",
        "    f1_score(y_test, y_pred, zero_division=0),\n",
        "    roc_auc_score(y_test, y_proba) if len(np.unique(y_test))>1 else float('nan')\n",
        "))\n"
      ]
    },
    {
      "cell_type": "markdown",
      "id": "5044e09f",
      "metadata": {
        "id": "5044e09f"
      },
      "source": [
        "\n",
        "## 16. Análisis de errores e importancia de variables (Proyecto 2)\n",
        "**TODO:** Muestra matriz de confusión, curvas y comenta falsos positivos/negativos por segmento.\n"
      ]
    },
    {
      "cell_type": "code",
      "execution_count": null,
      "id": "41095552",
      "metadata": {
        "id": "41095552"
      },
      "outputs": [],
      "source": [
        "\n",
        "# Matriz de confusión (numérica)\n",
        "cm = confusion_matrix(y_test, y_pred)\n",
        "cm\n"
      ]
    },
    {
      "cell_type": "markdown",
      "id": "a29c3b17",
      "metadata": {
        "id": "a29c3b17"
      },
      "source": [
        "\n",
        "## 17. Conclusiones y trabajo futuro (Proyecto 2)\n",
        "**TODO:** Resume hallazgos, utilidad práctica (alertas, límites de tiempo, recomendaciones) y próximos pasos.\n"
      ]
    },
    {
      "cell_type": "markdown",
      "id": "bae64966",
      "metadata": {
        "id": "bae64966"
      },
      "source": [
        "\n",
        "---\n",
        "\n",
        "## 18. Limitaciones generales y reflexiones éticas\n",
        "**TODO:** Reflexiona sobre sesgos, representatividad de datos personales, efectos de recomendación, privacidad y seguridad.\n",
        "\n",
        "## 19. Checklist final\n",
        "- [ ] El cuaderno **corre desde cero** (Runtime -> Restart & Run All).  \n",
        "- [ ] Incluye **diccionario de datos** y **anexo de privacidad**.  \n",
        "- [ ] Tiene **baselines** y **≥2 modelos** comparados (según el proyecto).  \n",
        "- [ ] Reporta **métricas** adecuadas y **análisis de errores**.  \n",
        "- [ ] Conclusiones accionables y **trabajo futuro**.\n",
        "\n"
      ]
    }
  ],
  "metadata": {
    "colab": {
      "provenance": []
    },
    "language_info": {
      "name": "python"
    },
    "kernelspec": {
      "name": "python3",
      "display_name": "Python 3"
    }
  },
  "nbformat": 4,
  "nbformat_minor": 5
}